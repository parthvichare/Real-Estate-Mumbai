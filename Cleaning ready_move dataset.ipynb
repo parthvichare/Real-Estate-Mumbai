{
 "cells": [
  {
   "cell_type": "code",
   "execution_count": 1,
   "id": "36ee3592",
   "metadata": {},
   "outputs": [
    {
     "name": "stderr",
     "output_type": "stream",
     "text": [
      "C:\\Users\\ADMIN\\anaconda3\\Lib\\site-packages\\pandas\\core\\arrays\\masked.py:60: UserWarning: Pandas requires version '1.3.6' or newer of 'bottleneck' (version '1.3.5' currently installed).\n",
      "  from pandas.core import (\n"
     ]
    }
   ],
   "source": [
    "import pandas as pd"
   ]
  },
  {
   "cell_type": "code",
   "execution_count": 12,
   "id": "d95d29bd",
   "metadata": {},
   "outputs": [],
   "source": [
    "flats_1=pd.read_excel('Ready_to_move.xlsx')\n",
    "flats_1=flats_1[0:1500]\n",
    "flats_2=pd.read_excel('flats_mumbai.xlsx')\n",
    "flats_2=flats_2[0:1900]"
   ]
  },
  {
   "cell_type": "code",
   "execution_count": 13,
   "id": "c144cac8",
   "metadata": {
    "scrolled": false
   },
   "outputs": [
    {
     "data": {
      "text/plain": [
       "Price\n",
       "₹1.10 Cr    36\n",
       "₹95 Lac     35\n",
       "₹1.80 Cr    31\n",
       "₹1.50 Cr    30\n",
       "₹2 Cr       27\n",
       "            ..\n",
       "₹3.11 Cr     1\n",
       "₹2.42 Cr     1\n",
       "₹8.10 Cr     1\n",
       "₹15 Cr       1\n",
       "₹17 Lac      1\n",
       "Name: count, Length: 313, dtype: int64"
      ]
     },
     "execution_count": 13,
     "metadata": {},
     "output_type": "execute_result"
    }
   ],
   "source": [
    "flats_1['Price'].value_counts()"
   ]
  },
  {
   "cell_type": "code",
   "execution_count": 14,
   "id": "f2ad9dbc",
   "metadata": {},
   "outputs": [
    {
     "data": {
      "text/plain": [
       "Price\n",
       "₹95 Lac      42\n",
       "₹1.10 Cr     42\n",
       "₹1.50 Cr     39\n",
       "₹1.60 Cr     33\n",
       "₹2 Cr        33\n",
       "             ..\n",
       "₹13 Lac       1\n",
       "₹9.90 Cr      1\n",
       "₹67.5 Lac     1\n",
       "₹4.80 Cr      1\n",
       "₹28.5 Lac     1\n",
       "Name: count, Length: 337, dtype: int64"
      ]
     },
     "execution_count": 14,
     "metadata": {},
     "output_type": "execute_result"
    }
   ],
   "source": [
    "flats_2['Price'].value_counts()"
   ]
  },
  {
   "cell_type": "code",
   "execution_count": 15,
   "id": "aba559cb",
   "metadata": {},
   "outputs": [
    {
     "data": {
      "text/html": [
       "<div>\n",
       "<style scoped>\n",
       "    .dataframe tbody tr th:only-of-type {\n",
       "        vertical-align: middle;\n",
       "    }\n",
       "\n",
       "    .dataframe tbody tr th {\n",
       "        vertical-align: top;\n",
       "    }\n",
       "\n",
       "    .dataframe thead th {\n",
       "        text-align: right;\n",
       "    }\n",
       "</style>\n",
       "<table border=\"1\" class=\"dataframe\">\n",
       "  <thead>\n",
       "    <tr style=\"text-align: right;\">\n",
       "      <th></th>\n",
       "      <th>Name</th>\n",
       "      <th>Link</th>\n",
       "      <th>Society</th>\n",
       "      <th>Price</th>\n",
       "      <th>Sqft</th>\n",
       "      <th>Carpet</th>\n",
       "      <th>Furnished</th>\n",
       "      <th>Floor</th>\n",
       "      <th>balcony</th>\n",
       "      <th>bathroom</th>\n",
       "      <th>Bedroom</th>\n",
       "    </tr>\n",
       "  </thead>\n",
       "  <tbody>\n",
       "    <tr>\n",
       "      <th>593</th>\n",
       "      <td>2 BHK Ready to Occupy Flat for sale Palava, ca...</td>\n",
       "      <td>NaN</td>\n",
       "      <td>NaN</td>\n",
       "      <td>₹48 Lac</td>\n",
       "      <td>₹5811 per sqft</td>\n",
       "      <td>NaN</td>\n",
       "      <td>Furnished</td>\n",
       "      <td>8 out of 8</td>\n",
       "      <td>NaN</td>\n",
       "      <td>2.0</td>\n",
       "      <td>2.0</td>\n",
       "    </tr>\n",
       "    <tr>\n",
       "      <th>420</th>\n",
       "      <td>Studio Apartment for sale Bhandup West</td>\n",
       "      <td>NaN</td>\n",
       "      <td>NaN</td>\n",
       "      <td>₹36 Lac</td>\n",
       "      <td>₹18000 per sqft</td>\n",
       "      <td>200 sqft</td>\n",
       "      <td>Unfurnished</td>\n",
       "      <td>Ground out of 1</td>\n",
       "      <td>NaN</td>\n",
       "      <td>1.0</td>\n",
       "      <td>NaN</td>\n",
       "    </tr>\n",
       "    <tr>\n",
       "      <th>419</th>\n",
       "      <td>2 BHK Ready to Occupy Flat for sale in Eastern...</td>\n",
       "      <td>https://www.magicbricks.com/eastern-winds-sion...</td>\n",
       "      <td>Eastern Winds</td>\n",
       "      <td>₹2 Cr</td>\n",
       "      <td>₹23529 per sqft</td>\n",
       "      <td>723 sqft</td>\n",
       "      <td>Semi-Furnished</td>\n",
       "      <td>15 out of 15</td>\n",
       "      <td>NaN</td>\n",
       "      <td>2.0</td>\n",
       "      <td>2.0</td>\n",
       "    </tr>\n",
       "    <tr>\n",
       "      <th>1399</th>\n",
       "      <td>1 BHK Ready to Occupy Flat for sale Virar</td>\n",
       "      <td>NaN</td>\n",
       "      <td>NaN</td>\n",
       "      <td>₹18 Lac</td>\n",
       "      <td>₹4500 per sqft</td>\n",
       "      <td>NaN</td>\n",
       "      <td>Unfurnished</td>\n",
       "      <td>2 out of 4</td>\n",
       "      <td>NaN</td>\n",
       "      <td>1.0</td>\n",
       "      <td>1.0</td>\n",
       "    </tr>\n",
       "    <tr>\n",
       "      <th>1109</th>\n",
       "      <td>1 BHK Ready to Occupy Flat for sale Virar West</td>\n",
       "      <td>NaN</td>\n",
       "      <td>NaN</td>\n",
       "      <td>₹39 Lac</td>\n",
       "      <td>₹5954 per sqft</td>\n",
       "      <td>NaN</td>\n",
       "      <td>Semi-Furnished</td>\n",
       "      <td>5 out of 8</td>\n",
       "      <td>NaN</td>\n",
       "      <td>1.0</td>\n",
       "      <td>1.0</td>\n",
       "    </tr>\n",
       "    <tr>\n",
       "      <th>1011</th>\n",
       "      <td>2 BHK Ready to Occupy Flat for sale Borivali West</td>\n",
       "      <td>NaN</td>\n",
       "      <td>NaN</td>\n",
       "      <td>₹2.20 Cr</td>\n",
       "      <td>₹26829 per sqft</td>\n",
       "      <td>640 sqft</td>\n",
       "      <td>Furnished</td>\n",
       "      <td>3 out of 7</td>\n",
       "      <td>NaN</td>\n",
       "      <td>2.0</td>\n",
       "      <td>2.0</td>\n",
       "    </tr>\n",
       "    <tr>\n",
       "      <th>1391</th>\n",
       "      <td>1 BHK Ready to Occupy Flat for sale in Krish R...</td>\n",
       "      <td>https://www.magicbricks.com/krish-royale-parel...</td>\n",
       "      <td>Krish Royale</td>\n",
       "      <td>₹1.70 Cr</td>\n",
       "      <td>₹30909 per sqft</td>\n",
       "      <td>400 sqft</td>\n",
       "      <td>Semi-Furnished</td>\n",
       "      <td>15 out of 18</td>\n",
       "      <td>1</td>\n",
       "      <td>1.0</td>\n",
       "      <td>1.0</td>\n",
       "    </tr>\n",
       "    <tr>\n",
       "      <th>1313</th>\n",
       "      <td>Studio Apartment for sale Virar East</td>\n",
       "      <td>NaN</td>\n",
       "      <td>NaN</td>\n",
       "      <td>₹12 Lac</td>\n",
       "      <td>₹5714 per sqft</td>\n",
       "      <td>NaN</td>\n",
       "      <td>Unfurnished</td>\n",
       "      <td>2 out of 5</td>\n",
       "      <td>NaN</td>\n",
       "      <td>2.0</td>\n",
       "      <td>NaN</td>\n",
       "    </tr>\n",
       "    <tr>\n",
       "      <th>749</th>\n",
       "      <td>1 BHK Ready to Occupy Flat for sale Powai</td>\n",
       "      <td>NaN</td>\n",
       "      <td>NaN</td>\n",
       "      <td>₹1.30 Cr</td>\n",
       "      <td>₹23636 per sqft</td>\n",
       "      <td>NaN</td>\n",
       "      <td>Furnished</td>\n",
       "      <td>3 out of 3</td>\n",
       "      <td>NaN</td>\n",
       "      <td>1.0</td>\n",
       "      <td>1.0</td>\n",
       "    </tr>\n",
       "    <tr>\n",
       "      <th>318</th>\n",
       "      <td>2 BHK Ready to Occupy Flat for sale in NG Roya...</td>\n",
       "      <td>https://www.magicbricks.com/ng-royal-park-kanj...</td>\n",
       "      <td>NG Royal Park</td>\n",
       "      <td>₹1.50 Cr</td>\n",
       "      <td>₹15740 per sqft</td>\n",
       "      <td>625 sqft</td>\n",
       "      <td>Semi-Furnished</td>\n",
       "      <td>5 out of 15</td>\n",
       "      <td>NaN</td>\n",
       "      <td>2.0</td>\n",
       "      <td>2.0</td>\n",
       "    </tr>\n",
       "  </tbody>\n",
       "</table>\n",
       "</div>"
      ],
      "text/plain": [
       "                                                   Name  \\\n",
       "593   2 BHK Ready to Occupy Flat for sale Palava, ca...   \n",
       "420              Studio Apartment for sale Bhandup West   \n",
       "419   2 BHK Ready to Occupy Flat for sale in Eastern...   \n",
       "1399          1 BHK Ready to Occupy Flat for sale Virar   \n",
       "1109     1 BHK Ready to Occupy Flat for sale Virar West   \n",
       "1011  2 BHK Ready to Occupy Flat for sale Borivali West   \n",
       "1391  1 BHK Ready to Occupy Flat for sale in Krish R...   \n",
       "1313               Studio Apartment for sale Virar East   \n",
       "749           1 BHK Ready to Occupy Flat for sale Powai   \n",
       "318   2 BHK Ready to Occupy Flat for sale in NG Roya...   \n",
       "\n",
       "                                                   Link        Society  \\\n",
       "593                                                 NaN            NaN   \n",
       "420                                                 NaN            NaN   \n",
       "419   https://www.magicbricks.com/eastern-winds-sion...  Eastern Winds   \n",
       "1399                                                NaN            NaN   \n",
       "1109                                                NaN            NaN   \n",
       "1011                                                NaN            NaN   \n",
       "1391  https://www.magicbricks.com/krish-royale-parel...   Krish Royale   \n",
       "1313                                                NaN            NaN   \n",
       "749                                                 NaN            NaN   \n",
       "318   https://www.magicbricks.com/ng-royal-park-kanj...  NG Royal Park   \n",
       "\n",
       "         Price             Sqft    Carpet       Furnished            Floor  \\\n",
       "593    ₹48 Lac   ₹5811 per sqft       NaN       Furnished       8 out of 8   \n",
       "420    ₹36 Lac  ₹18000 per sqft  200 sqft     Unfurnished  Ground out of 1   \n",
       "419      ₹2 Cr  ₹23529 per sqft  723 sqft  Semi-Furnished     15 out of 15   \n",
       "1399   ₹18 Lac   ₹4500 per sqft       NaN     Unfurnished       2 out of 4   \n",
       "1109   ₹39 Lac   ₹5954 per sqft       NaN  Semi-Furnished       5 out of 8   \n",
       "1011  ₹2.20 Cr  ₹26829 per sqft  640 sqft       Furnished       3 out of 7   \n",
       "1391  ₹1.70 Cr  ₹30909 per sqft  400 sqft  Semi-Furnished     15 out of 18   \n",
       "1313   ₹12 Lac   ₹5714 per sqft       NaN     Unfurnished       2 out of 5   \n",
       "749   ₹1.30 Cr  ₹23636 per sqft       NaN       Furnished       3 out of 3   \n",
       "318   ₹1.50 Cr  ₹15740 per sqft  625 sqft  Semi-Furnished      5 out of 15   \n",
       "\n",
       "     balcony  bathroom  Bedroom  \n",
       "593      NaN       2.0      2.0  \n",
       "420      NaN       1.0      NaN  \n",
       "419      NaN       2.0      2.0  \n",
       "1399     NaN       1.0      1.0  \n",
       "1109     NaN       1.0      1.0  \n",
       "1011     NaN       2.0      2.0  \n",
       "1391       1       1.0      1.0  \n",
       "1313     NaN       2.0      NaN  \n",
       "749      NaN       1.0      1.0  \n",
       "318      NaN       2.0      2.0  "
      ]
     },
     "execution_count": 15,
     "metadata": {},
     "output_type": "execute_result"
    }
   ],
   "source": [
    "df=pd.concat([flats_1,flats_2],axis=0)\n",
    "df.sample(10)"
   ]
  },
  {
   "cell_type": "code",
   "execution_count": 16,
   "id": "32466896",
   "metadata": {},
   "outputs": [
    {
     "data": {
      "text/plain": [
       "3400"
      ]
     },
     "execution_count": 16,
     "metadata": {},
     "output_type": "execute_result"
    }
   ],
   "source": [
    "len(df)"
   ]
  },
  {
   "cell_type": "code",
   "execution_count": 17,
   "id": "4de2fc02",
   "metadata": {},
   "outputs": [
    {
     "name": "stdout",
     "output_type": "stream",
     "text": [
      "object\n"
     ]
    }
   ],
   "source": [
    "column_type = df['Sqft'].dtype\n",
    "print(column_type)"
   ]
  },
  {
   "cell_type": "code",
   "execution_count": 18,
   "id": "7f5a195f",
   "metadata": {},
   "outputs": [],
   "source": [
    "df.drop(columns=['Link','Society'],inplace=True)"
   ]
  },
  {
   "cell_type": "code",
   "execution_count": 19,
   "id": "188b9b72",
   "metadata": {},
   "outputs": [],
   "source": [
    "feature=df[df['Price'].notna()]"
   ]
  },
  {
   "cell_type": "code",
   "execution_count": 20,
   "id": "a3573ce8",
   "metadata": {},
   "outputs": [
    {
     "data": {
      "text/plain": [
       "(3400, 9)"
      ]
     },
     "execution_count": 20,
     "metadata": {},
     "output_type": "execute_result"
    }
   ],
   "source": [
    "feature.shape"
   ]
  },
  {
   "cell_type": "code",
   "execution_count": 21,
   "id": "64b7ce50",
   "metadata": {},
   "outputs": [
    {
     "data": {
      "text/plain": [
       "Name            0\n",
       "Price           0\n",
       "Sqft          369\n",
       "Carpet        848\n",
       "Furnished      47\n",
       "Floor          32\n",
       "balcony      2134\n",
       "bathroom       21\n",
       "Bedroom        78\n",
       "dtype: int64"
      ]
     },
     "execution_count": 21,
     "metadata": {},
     "output_type": "execute_result"
    }
   ],
   "source": [
    "df.isnull().sum()"
   ]
  },
  {
   "cell_type": "code",
   "execution_count": 43,
   "id": "e8de7959",
   "metadata": {},
   "outputs": [
    {
     "data": {
      "text/plain": [
       "3400"
      ]
     },
     "execution_count": 43,
     "metadata": {},
     "output_type": "execute_result"
    }
   ],
   "source": [
    "len(df)\n",
    "# df.head()"
   ]
  },
  {
   "cell_type": "markdown",
   "id": "3ec53c56",
   "metadata": {},
   "source": [
    "# Cleaning and Filling Missing Values"
   ]
  },
  {
   "cell_type": "code",
   "execution_count": 64,
   "id": "a1613817",
   "metadata": {},
   "outputs": [],
   "source": [
    "df=df.drop(columns=['society'])"
   ]
  },
  {
   "cell_type": "code",
   "execution_count": 65,
   "id": "f277bbc8",
   "metadata": {},
   "outputs": [
    {
     "data": {
      "text/html": [
       "<div>\n",
       "<style scoped>\n",
       "    .dataframe tbody tr th:only-of-type {\n",
       "        vertical-align: middle;\n",
       "    }\n",
       "\n",
       "    .dataframe tbody tr th {\n",
       "        vertical-align: top;\n",
       "    }\n",
       "\n",
       "    .dataframe thead th {\n",
       "        text-align: right;\n",
       "    }\n",
       "</style>\n",
       "<table border=\"1\" class=\"dataframe\">\n",
       "  <thead>\n",
       "    <tr style=\"text-align: right;\">\n",
       "      <th></th>\n",
       "      <th>Name</th>\n",
       "      <th>Price</th>\n",
       "      <th>area</th>\n",
       "      <th>price_per_sqft</th>\n",
       "      <th>Furnished</th>\n",
       "      <th>Floor</th>\n",
       "      <th>balcony</th>\n",
       "      <th>bathroom</th>\n",
       "      <th>Bedroom</th>\n",
       "      <th>society</th>\n",
       "    </tr>\n",
       "  </thead>\n",
       "  <tbody>\n",
       "    <tr>\n",
       "      <th>0</th>\n",
       "      <td>3 BHK Ready to Occupy Flat for sale in Girivan...</td>\n",
       "      <td>₹3.10 Cr</td>\n",
       "      <td>₹25833 per sqft</td>\n",
       "      <td>979 sqft</td>\n",
       "      <td>Semi-Furnished</td>\n",
       "      <td>6 out of 13</td>\n",
       "      <td>1</td>\n",
       "      <td>3.0</td>\n",
       "      <td>3.0</td>\n",
       "      <td>Paramjyoti Chembur</td>\n",
       "    </tr>\n",
       "    <tr>\n",
       "      <th>1</th>\n",
       "      <td>2 BHK Ready to Occupy Flat for sale Dahisar West</td>\n",
       "      <td>₹1.85 Cr</td>\n",
       "      <td>NaN</td>\n",
       "      <td>707 sqft</td>\n",
       "      <td>Unfurnished</td>\n",
       "      <td>3 out of 6</td>\n",
       "      <td>NaN</td>\n",
       "      <td>2.0</td>\n",
       "      <td>2.0</td>\n",
       "      <td>Dahisar West</td>\n",
       "    </tr>\n",
       "  </tbody>\n",
       "</table>\n",
       "</div>"
      ],
      "text/plain": [
       "                                                Name     Price  \\\n",
       "0  3 BHK Ready to Occupy Flat for sale in Girivan...  ₹3.10 Cr   \n",
       "1   2 BHK Ready to Occupy Flat for sale Dahisar West  ₹1.85 Cr   \n",
       "\n",
       "              area price_per_sqft       Furnished        Floor balcony  \\\n",
       "0  ₹25833 per sqft       979 sqft  Semi-Furnished  6 out of 13       1   \n",
       "1              NaN       707 sqft     Unfurnished   3 out of 6     NaN   \n",
       "\n",
       "   bathroom  Bedroom             society  \n",
       "0       3.0      3.0  Paramjyoti Chembur  \n",
       "1       2.0      2.0        Dahisar West  "
      ]
     },
     "execution_count": 65,
     "metadata": {},
     "output_type": "execute_result"
    }
   ],
   "source": [
    "#Filling Missing Values of Society with the help of Name\n",
    "\n",
    "#Converting name into series for manipulation\n",
    "names=pd.Series(df['Name'])\n",
    "\n",
    "# #Creating list for storing the data\n",
    "name_list = []\n",
    "\n",
    "for name in names[0:4770]:\n",
    "    a=name.split()\n",
    "    name_list.append(a[-2:])\n",
    "\n",
    "# #Joined the split words\n",
    "society_names = [' '.join(sublist) + '' for sublist in name_list]\n",
    "\n",
    "Society=pd.DataFrame({'society':society_names})\n",
    "\n",
    "# # #Joing Society column with df\n",
    "df=pd.concat([df,Society],axis=1)\n",
    "df.head(2)"
   ]
  },
  {
   "cell_type": "code",
   "execution_count": 68,
   "id": "97d6d787",
   "metadata": {},
   "outputs": [
    {
     "data": {
      "text/plain": [
       "Index(['Name', 'Price', 'area', 'price_per_sqft', 'Furnished', 'Floor',\n",
       "       'balcony', 'bathroom', 'Bedroom', 'society'],\n",
       "      dtype='object')"
      ]
     },
     "execution_count": 68,
     "metadata": {},
     "output_type": "execute_result"
    }
   ],
   "source": [
    "df.columns"
   ]
  },
  {
   "cell_type": "code",
   "execution_count": 24,
   "id": "713a0001",
   "metadata": {},
   "outputs": [
    {
     "data": {
      "text/plain": [
       "Name            0\n",
       "Price           0\n",
       "Sqft          369\n",
       "Carpet        848\n",
       "Furnished      47\n",
       "Floor          32\n",
       "balcony      2134\n",
       "bathroom       21\n",
       "Bedroom        78\n",
       "dtype: int64"
      ]
     },
     "execution_count": 24,
     "metadata": {},
     "output_type": "execute_result"
    }
   ],
   "source": [
    "df.isnull().sum()"
   ]
  },
  {
   "cell_type": "code",
   "execution_count": 25,
   "id": "a5abf836",
   "metadata": {},
   "outputs": [],
   "source": [
    "df=df.rename(columns={'Carpet':'price_per_sqft','Sqft':'area'})"
   ]
  },
  {
   "cell_type": "code",
   "execution_count": 90,
   "id": "3ea13d91",
   "metadata": {},
   "outputs": [
    {
     "data": {
      "text/plain": [
       "Price\n",
       "₹1.10 Cr     78\n",
       "₹95 Lac      77\n",
       "₹1.50 Cr     69\n",
       "₹2 Cr        60\n",
       "₹1.80 Cr     59\n",
       "             ..\n",
       "₹5.40 Cr      1\n",
       "₹19.5 Lac     1\n",
       "₹1.51 Cr      1\n",
       "₹36.5 Lac     1\n",
       "₹33.9 Lac     1\n",
       "Name: count, Length: 358, dtype: int64"
      ]
     },
     "execution_count": 90,
     "metadata": {},
     "output_type": "execute_result"
    }
   ],
   "source": [
    "df['Price'].value_counts()"
   ]
  },
  {
   "cell_type": "code",
   "execution_count": 71,
   "id": "89684f18",
   "metadata": {},
   "outputs": [],
   "source": [
    "a = df['Price'].value_counts()"
   ]
  },
  {
   "cell_type": "code",
   "execution_count": 85,
   "id": "57ed25e0",
   "metadata": {},
   "outputs": [
    {
     "ename": "ValueError",
     "evalue": "The truth value of a Series is ambiguous. Use a.empty, a.bool(), a.item(), a.any() or a.all().",
     "output_type": "error",
     "traceback": [
      "\u001b[1;31m---------------------------------------------------------------------------\u001b[0m",
      "\u001b[1;31mValueError\u001b[0m                                Traceback (most recent call last)",
      "\u001b[1;32m~\\AppData\\Local\\Temp\\ipykernel_12508\\1792634660.py\u001b[0m in \u001b[0;36m?\u001b[1;34m()\u001b[0m\n\u001b[0;32m      1\u001b[0m \u001b[1;31m#Filtering Price Range\u001b[0m\u001b[1;33m\u001b[0m\u001b[1;33m\u001b[0m\u001b[0m\n\u001b[1;32m----> 2\u001b[1;33m \u001b[0mfiltered_df\u001b[0m \u001b[1;33m=\u001b[0m \u001b[0mdf\u001b[0m\u001b[1;33m[\u001b[0m\u001b[0mdf\u001b[0m\u001b[1;33m[\u001b[0m\u001b[1;34m'Price'\u001b[0m\u001b[1;33m]\u001b[0m \u001b[1;33m==\u001b[0m \u001b[1;34m'₹1.99 Cr'\u001b[0m \u001b[1;32mor\u001b[0m \u001b[0mdf\u001b[0m\u001b[1;33m[\u001b[0m\u001b[1;34m'Price'\u001b[0m\u001b[1;33m]\u001b[0m\u001b[1;33m==\u001b[0m\u001b[1;34m'₹24 Lac'\u001b[0m\u001b[1;33m]\u001b[0m\u001b[1;33m\u001b[0m\u001b[1;33m\u001b[0m\u001b[0m\n\u001b[0m",
      "\u001b[1;32m~\\anaconda3\\Lib\\site-packages\\pandas\\core\\generic.py\u001b[0m in \u001b[0;36m?\u001b[1;34m(self)\u001b[0m\n\u001b[0;32m   1574\u001b[0m     \u001b[1;33m@\u001b[0m\u001b[0mfinal\u001b[0m\u001b[1;33m\u001b[0m\u001b[1;33m\u001b[0m\u001b[0m\n\u001b[0;32m   1575\u001b[0m     \u001b[1;32mdef\u001b[0m \u001b[0m__nonzero__\u001b[0m\u001b[1;33m(\u001b[0m\u001b[0mself\u001b[0m\u001b[1;33m)\u001b[0m \u001b[1;33m->\u001b[0m \u001b[0mNoReturn\u001b[0m\u001b[1;33m:\u001b[0m\u001b[1;33m\u001b[0m\u001b[1;33m\u001b[0m\u001b[0m\n\u001b[1;32m-> 1576\u001b[1;33m         raise ValueError(\n\u001b[0m\u001b[0;32m   1577\u001b[0m             \u001b[1;34mf\"The truth value of a {type(self).__name__} is ambiguous. \"\u001b[0m\u001b[1;33m\u001b[0m\u001b[1;33m\u001b[0m\u001b[0m\n\u001b[0;32m   1578\u001b[0m             \u001b[1;34m\"Use a.empty, a.bool(), a.item(), a.any() or a.all().\"\u001b[0m\u001b[1;33m\u001b[0m\u001b[1;33m\u001b[0m\u001b[0m\n\u001b[0;32m   1579\u001b[0m         )\n",
      "\u001b[1;31mValueError\u001b[0m: The truth value of a Series is ambiguous. Use a.empty, a.bool(), a.item(), a.any() or a.all()."
     ]
    }
   ],
   "source": [
    "#Filtering Price Range\n",
    "filtered_df = df[df['Price'] == '₹1.99 Cr' or df['Price']=='₹24 Lac']"
   ]
  },
  {
   "cell_type": "code",
   "execution_count": 91,
   "id": "030b01b1",
   "metadata": {},
   "outputs": [],
   "source": [
    "filtered_df=df[(df['Price']=='₹24 Lac')|(df['Price']=='₹95 Lac')]"
   ]
  },
  {
   "cell_type": "code",
   "execution_count": 92,
   "id": "bf61bf63",
   "metadata": {},
   "outputs": [
    {
     "data": {
      "text/html": [
       "<div>\n",
       "<style scoped>\n",
       "    .dataframe tbody tr th:only-of-type {\n",
       "        vertical-align: middle;\n",
       "    }\n",
       "\n",
       "    .dataframe tbody tr th {\n",
       "        vertical-align: top;\n",
       "    }\n",
       "\n",
       "    .dataframe thead th {\n",
       "        text-align: right;\n",
       "    }\n",
       "</style>\n",
       "<table border=\"1\" class=\"dataframe\">\n",
       "  <thead>\n",
       "    <tr style=\"text-align: right;\">\n",
       "      <th></th>\n",
       "      <th>Name</th>\n",
       "      <th>Price</th>\n",
       "      <th>area</th>\n",
       "      <th>price_per_sqft</th>\n",
       "      <th>Furnished</th>\n",
       "      <th>Floor</th>\n",
       "      <th>balcony</th>\n",
       "      <th>bathroom</th>\n",
       "      <th>Bedroom</th>\n",
       "      <th>society</th>\n",
       "    </tr>\n",
       "  </thead>\n",
       "  <tbody>\n",
       "    <tr>\n",
       "      <th>35</th>\n",
       "      <td>2 BHK Ready to Occupy Flat for sale Borivali East</td>\n",
       "      <td>₹95 Lac</td>\n",
       "      <td>₹14615 per sqft</td>\n",
       "      <td>435 sqft</td>\n",
       "      <td>Semi-Furnished</td>\n",
       "      <td>2 out of 4</td>\n",
       "      <td>NaN</td>\n",
       "      <td>2.0</td>\n",
       "      <td>2.0</td>\n",
       "      <td>Borivali East</td>\n",
       "    </tr>\n",
       "    <tr>\n",
       "      <th>38</th>\n",
       "      <td>1 BHK Ready to Occupy Flat for sale in Virar B...</td>\n",
       "      <td>₹24 Lac</td>\n",
       "      <td>₹5333 per sqft</td>\n",
       "      <td>350 sqft</td>\n",
       "      <td>Unfurnished</td>\n",
       "      <td>3 out of 25</td>\n",
       "      <td>NaN</td>\n",
       "      <td>1.0</td>\n",
       "      <td>1.0</td>\n",
       "      <td>Virar West</td>\n",
       "    </tr>\n",
       "    <tr>\n",
       "      <th>77</th>\n",
       "      <td>1 BHK Ready to Occupy Flat for sale in Mahamay...</td>\n",
       "      <td>₹95 Lac</td>\n",
       "      <td>₹17431 per sqft</td>\n",
       "      <td>480 sqft</td>\n",
       "      <td>Furnished</td>\n",
       "      <td>2 out of 4</td>\n",
       "      <td>NaN</td>\n",
       "      <td>1.0</td>\n",
       "      <td>1.0</td>\n",
       "      <td>Mulund West</td>\n",
       "    </tr>\n",
       "    <tr>\n",
       "      <th>78</th>\n",
       "      <td>1 BHK Ready to Occupy Flat for sale Ghatkopar ...</td>\n",
       "      <td>₹95 Lac</td>\n",
       "      <td>₹17273 per sqft</td>\n",
       "      <td>430 sqft</td>\n",
       "      <td>Unfurnished</td>\n",
       "      <td>1 out of 8</td>\n",
       "      <td>NaN</td>\n",
       "      <td>1.0</td>\n",
       "      <td>1.0</td>\n",
       "      <td>Ghatkopar West</td>\n",
       "    </tr>\n",
       "    <tr>\n",
       "      <th>92</th>\n",
       "      <td>1 BHK Ready to Occupy Flat for sale in Mihar C...</td>\n",
       "      <td>₹95 Lac</td>\n",
       "      <td>₹16239 per sqft</td>\n",
       "      <td>465 sqft</td>\n",
       "      <td>Furnished</td>\n",
       "      <td>1 out of 7</td>\n",
       "      <td>NaN</td>\n",
       "      <td>1.0</td>\n",
       "      <td>1.0</td>\n",
       "      <td>Charkop Gaon</td>\n",
       "    </tr>\n",
       "    <tr>\n",
       "      <th>...</th>\n",
       "      <td>...</td>\n",
       "      <td>...</td>\n",
       "      <td>...</td>\n",
       "      <td>...</td>\n",
       "      <td>...</td>\n",
       "      <td>...</td>\n",
       "      <td>...</td>\n",
       "      <td>...</td>\n",
       "      <td>...</td>\n",
       "      <td>...</td>\n",
       "    </tr>\n",
       "    <tr>\n",
       "      <th>3248</th>\n",
       "      <td>2 BHK Ready to Occupy Flat for sale in Poonam ...</td>\n",
       "      <td>₹95 Lac</td>\n",
       "      <td>₹10000 per sqft</td>\n",
       "      <td>585 sqft</td>\n",
       "      <td>Unfurnished</td>\n",
       "      <td>3 out of 21</td>\n",
       "      <td>2</td>\n",
       "      <td>2.0</td>\n",
       "      <td>2.0</td>\n",
       "      <td>Road Area</td>\n",
       "    </tr>\n",
       "    <tr>\n",
       "      <th>3268</th>\n",
       "      <td>1 BHK Ready to Occupy Flat for sale in Hiral L...</td>\n",
       "      <td>₹95 Lac</td>\n",
       "      <td>₹20000 per sqft</td>\n",
       "      <td>432 sqft</td>\n",
       "      <td>Unfurnished</td>\n",
       "      <td>6 out of 13</td>\n",
       "      <td>NaN</td>\n",
       "      <td>2.0</td>\n",
       "      <td>1.0</td>\n",
       "      <td>Kandivali West</td>\n",
       "    </tr>\n",
       "    <tr>\n",
       "      <th>3371</th>\n",
       "      <td>1 BHK Ready to Occupy Flat for sale in Dipti D...</td>\n",
       "      <td>₹95 Lac</td>\n",
       "      <td>₹16964 per sqft</td>\n",
       "      <td>560 sqft</td>\n",
       "      <td>Semi-Furnished</td>\n",
       "      <td>2 out of 4</td>\n",
       "      <td>NaN</td>\n",
       "      <td>1.0</td>\n",
       "      <td>1.0</td>\n",
       "      <td>Nahur Gaothan</td>\n",
       "    </tr>\n",
       "    <tr>\n",
       "      <th>3393</th>\n",
       "      <td>2 BHK Ready to Occupy Flat for sale Beverly Park</td>\n",
       "      <td>₹95 Lac</td>\n",
       "      <td>₹8261 per sqft</td>\n",
       "      <td>600 sqft</td>\n",
       "      <td>Unfurnished</td>\n",
       "      <td>1 out of 9</td>\n",
       "      <td>4</td>\n",
       "      <td>2.0</td>\n",
       "      <td>2.0</td>\n",
       "      <td>Beverly Park</td>\n",
       "    </tr>\n",
       "    <tr>\n",
       "      <th>3397</th>\n",
       "      <td>1 BHK Ready to Occupy Flat for sale in Vaishna...</td>\n",
       "      <td>₹24 Lac</td>\n",
       "      <td>₹4364 per sqft</td>\n",
       "      <td>485 sqft</td>\n",
       "      <td>Unfurnished</td>\n",
       "      <td>1 out of 3</td>\n",
       "      <td>NaN</td>\n",
       "      <td>2.0</td>\n",
       "      <td>1.0</td>\n",
       "      <td>Complex Virar</td>\n",
       "    </tr>\n",
       "  </tbody>\n",
       "</table>\n",
       "<p>84 rows × 10 columns</p>\n",
       "</div>"
      ],
      "text/plain": [
       "                                                   Name    Price  \\\n",
       "35    2 BHK Ready to Occupy Flat for sale Borivali East  ₹95 Lac   \n",
       "38    1 BHK Ready to Occupy Flat for sale in Virar B...  ₹24 Lac   \n",
       "77    1 BHK Ready to Occupy Flat for sale in Mahamay...  ₹95 Lac   \n",
       "78    1 BHK Ready to Occupy Flat for sale Ghatkopar ...  ₹95 Lac   \n",
       "92    1 BHK Ready to Occupy Flat for sale in Mihar C...  ₹95 Lac   \n",
       "...                                                 ...      ...   \n",
       "3248  2 BHK Ready to Occupy Flat for sale in Poonam ...  ₹95 Lac   \n",
       "3268  1 BHK Ready to Occupy Flat for sale in Hiral L...  ₹95 Lac   \n",
       "3371  1 BHK Ready to Occupy Flat for sale in Dipti D...  ₹95 Lac   \n",
       "3393   2 BHK Ready to Occupy Flat for sale Beverly Park  ₹95 Lac   \n",
       "3397  1 BHK Ready to Occupy Flat for sale in Vaishna...  ₹24 Lac   \n",
       "\n",
       "                 area price_per_sqft       Furnished        Floor balcony  \\\n",
       "35    ₹14615 per sqft       435 sqft  Semi-Furnished   2 out of 4     NaN   \n",
       "38     ₹5333 per sqft       350 sqft     Unfurnished  3 out of 25     NaN   \n",
       "77    ₹17431 per sqft       480 sqft       Furnished   2 out of 4     NaN   \n",
       "78    ₹17273 per sqft       430 sqft     Unfurnished   1 out of 8     NaN   \n",
       "92    ₹16239 per sqft       465 sqft       Furnished   1 out of 7     NaN   \n",
       "...               ...            ...             ...          ...     ...   \n",
       "3248  ₹10000 per sqft       585 sqft     Unfurnished  3 out of 21       2   \n",
       "3268  ₹20000 per sqft       432 sqft     Unfurnished  6 out of 13     NaN   \n",
       "3371  ₹16964 per sqft       560 sqft  Semi-Furnished   2 out of 4     NaN   \n",
       "3393   ₹8261 per sqft       600 sqft     Unfurnished   1 out of 9       4   \n",
       "3397   ₹4364 per sqft       485 sqft     Unfurnished   1 out of 3     NaN   \n",
       "\n",
       "      bathroom  Bedroom         society  \n",
       "35         2.0      2.0   Borivali East  \n",
       "38         1.0      1.0      Virar West  \n",
       "77         1.0      1.0     Mulund West  \n",
       "78         1.0      1.0  Ghatkopar West  \n",
       "92         1.0      1.0    Charkop Gaon  \n",
       "...        ...      ...             ...  \n",
       "3248       2.0      2.0       Road Area  \n",
       "3268       2.0      1.0  Kandivali West  \n",
       "3371       1.0      1.0   Nahur Gaothan  \n",
       "3393       2.0      2.0    Beverly Park  \n",
       "3397       2.0      1.0   Complex Virar  \n",
       "\n",
       "[84 rows x 10 columns]"
      ]
     },
     "execution_count": 92,
     "metadata": {},
     "output_type": "execute_result"
    }
   ],
   "source": [
    "filtered_df"
   ]
  },
  {
   "cell_type": "code",
   "execution_count": 93,
   "id": "5220ba07",
   "metadata": {},
   "outputs": [],
   "source": [
    "filtered_df=df[df['Price']=='₹24 Lac']"
   ]
  },
  {
   "cell_type": "code",
   "execution_count": 94,
   "id": "609cba58",
   "metadata": {},
   "outputs": [
    {
     "data": {
      "text/html": [
       "<div>\n",
       "<style scoped>\n",
       "    .dataframe tbody tr th:only-of-type {\n",
       "        vertical-align: middle;\n",
       "    }\n",
       "\n",
       "    .dataframe tbody tr th {\n",
       "        vertical-align: top;\n",
       "    }\n",
       "\n",
       "    .dataframe thead th {\n",
       "        text-align: right;\n",
       "    }\n",
       "</style>\n",
       "<table border=\"1\" class=\"dataframe\">\n",
       "  <thead>\n",
       "    <tr style=\"text-align: right;\">\n",
       "      <th></th>\n",
       "      <th>Name</th>\n",
       "      <th>Price</th>\n",
       "      <th>area</th>\n",
       "      <th>price_per_sqft</th>\n",
       "      <th>Furnished</th>\n",
       "      <th>Floor</th>\n",
       "      <th>balcony</th>\n",
       "      <th>bathroom</th>\n",
       "      <th>Bedroom</th>\n",
       "      <th>society</th>\n",
       "    </tr>\n",
       "  </thead>\n",
       "  <tbody>\n",
       "    <tr>\n",
       "      <th>38</th>\n",
       "      <td>1 BHK Ready to Occupy Flat for sale in Virar B...</td>\n",
       "      <td>₹24 Lac</td>\n",
       "      <td>₹5333 per sqft</td>\n",
       "      <td>350 sqft</td>\n",
       "      <td>Unfurnished</td>\n",
       "      <td>3 out of 25</td>\n",
       "      <td>NaN</td>\n",
       "      <td>1.0</td>\n",
       "      <td>1.0</td>\n",
       "      <td>Virar West</td>\n",
       "    </tr>\n",
       "    <tr>\n",
       "      <th>776</th>\n",
       "      <td>Studio Apartment for sale in Mhada Building Ka...</td>\n",
       "      <td>₹24 Lac</td>\n",
       "      <td>₹11765 per sqft</td>\n",
       "      <td>185 sqft</td>\n",
       "      <td>Unfurnished</td>\n",
       "      <td>Ground out of 7</td>\n",
       "      <td>NaN</td>\n",
       "      <td>1.0</td>\n",
       "      <td>NaN</td>\n",
       "      <td>Kandivali West</td>\n",
       "    </tr>\n",
       "    <tr>\n",
       "      <th>1342</th>\n",
       "      <td>1 BHK Ready to Occupy Flat for sale in Vaishna...</td>\n",
       "      <td>₹24 Lac</td>\n",
       "      <td>₹4364 per sqft</td>\n",
       "      <td>485 sqft</td>\n",
       "      <td>Unfurnished</td>\n",
       "      <td>1 out of 3</td>\n",
       "      <td>NaN</td>\n",
       "      <td>2.0</td>\n",
       "      <td>1.0</td>\n",
       "      <td>Complex Virar</td>\n",
       "    </tr>\n",
       "    <tr>\n",
       "      <th>1800</th>\n",
       "      <td>1 BHK Ready to Occupy Flat for sale in Virar B...</td>\n",
       "      <td>₹24 Lac</td>\n",
       "      <td>₹5333 per sqft</td>\n",
       "      <td>350 sqft</td>\n",
       "      <td>Unfurnished</td>\n",
       "      <td>3 out of 25</td>\n",
       "      <td>NaN</td>\n",
       "      <td>1.0</td>\n",
       "      <td>1.0</td>\n",
       "      <td>Virar West</td>\n",
       "    </tr>\n",
       "    <tr>\n",
       "      <th>2481</th>\n",
       "      <td>Studio Apartment for sale in Mhada Building Ka...</td>\n",
       "      <td>₹24 Lac</td>\n",
       "      <td>₹11765 per sqft</td>\n",
       "      <td>185 sqft</td>\n",
       "      <td>Unfurnished</td>\n",
       "      <td>Ground out of 7</td>\n",
       "      <td>NaN</td>\n",
       "      <td>1.0</td>\n",
       "      <td>NaN</td>\n",
       "      <td>Kandivali West</td>\n",
       "    </tr>\n",
       "    <tr>\n",
       "      <th>2870</th>\n",
       "      <td>1 BHK Ready to Occupy Flat for sale 302 vithob...</td>\n",
       "      <td>₹24 Lac</td>\n",
       "      <td>₹6000 per sqft</td>\n",
       "      <td>300 sqft</td>\n",
       "      <td>Furnished</td>\n",
       "      <td>3 out of 4</td>\n",
       "      <td>NaN</td>\n",
       "      <td>1.0</td>\n",
       "      <td>1.0</td>\n",
       "      <td>west Mumbai</td>\n",
       "    </tr>\n",
       "    <tr>\n",
       "      <th>3397</th>\n",
       "      <td>1 BHK Ready to Occupy Flat for sale in Vaishna...</td>\n",
       "      <td>₹24 Lac</td>\n",
       "      <td>₹4364 per sqft</td>\n",
       "      <td>485 sqft</td>\n",
       "      <td>Unfurnished</td>\n",
       "      <td>1 out of 3</td>\n",
       "      <td>NaN</td>\n",
       "      <td>2.0</td>\n",
       "      <td>1.0</td>\n",
       "      <td>Complex Virar</td>\n",
       "    </tr>\n",
       "  </tbody>\n",
       "</table>\n",
       "</div>"
      ],
      "text/plain": [
       "                                                   Name    Price  \\\n",
       "38    1 BHK Ready to Occupy Flat for sale in Virar B...  ₹24 Lac   \n",
       "776   Studio Apartment for sale in Mhada Building Ka...  ₹24 Lac   \n",
       "1342  1 BHK Ready to Occupy Flat for sale in Vaishna...  ₹24 Lac   \n",
       "1800  1 BHK Ready to Occupy Flat for sale in Virar B...  ₹24 Lac   \n",
       "2481  Studio Apartment for sale in Mhada Building Ka...  ₹24 Lac   \n",
       "2870  1 BHK Ready to Occupy Flat for sale 302 vithob...  ₹24 Lac   \n",
       "3397  1 BHK Ready to Occupy Flat for sale in Vaishna...  ₹24 Lac   \n",
       "\n",
       "                 area price_per_sqft    Furnished            Floor balcony  \\\n",
       "38     ₹5333 per sqft       350 sqft  Unfurnished      3 out of 25     NaN   \n",
       "776   ₹11765 per sqft       185 sqft  Unfurnished  Ground out of 7     NaN   \n",
       "1342   ₹4364 per sqft       485 sqft  Unfurnished       1 out of 3     NaN   \n",
       "1800   ₹5333 per sqft       350 sqft  Unfurnished      3 out of 25     NaN   \n",
       "2481  ₹11765 per sqft       185 sqft  Unfurnished  Ground out of 7     NaN   \n",
       "2870   ₹6000 per sqft       300 sqft    Furnished       3 out of 4     NaN   \n",
       "3397   ₹4364 per sqft       485 sqft  Unfurnished       1 out of 3     NaN   \n",
       "\n",
       "      bathroom  Bedroom         society  \n",
       "38         1.0      1.0      Virar West  \n",
       "776        1.0      NaN  Kandivali West  \n",
       "1342       2.0      1.0   Complex Virar  \n",
       "1800       1.0      1.0      Virar West  \n",
       "2481       1.0      NaN  Kandivali West  \n",
       "2870       1.0      1.0     west Mumbai  \n",
       "3397       2.0      1.0   Complex Virar  "
      ]
     },
     "execution_count": 94,
     "metadata": {},
     "output_type": "execute_result"
    }
   ],
   "source": [
    "filtered_df"
   ]
  },
  {
   "cell_type": "code",
   "execution_count": 97,
   "id": "7e4cf5df",
   "metadata": {},
   "outputs": [],
   "source": [
    "a=df['society'].value_counts()"
   ]
  },
  {
   "cell_type": "code",
   "execution_count": 99,
   "id": "08f10a75",
   "metadata": {},
   "outputs": [
    {
     "data": {
      "text/plain": [
       "society\n",
       "Prabhat Colony             2\n",
       "Residency Chembur          2\n",
       "sale Powai                 5\n",
       "Punjab Society             2\n",
       "Chawl Mumbai               1\n",
       "sale Byculla               1\n",
       "Jethava Nagar              1\n",
       "sale Prabhadevi            5\n",
       "Matunga East              13\n",
       "Moti Nagar                 1\n",
       "Ghatkopar East            41\n",
       "Lane Mumbai                1\n",
       "Garde Kashimira            2\n",
       "sale Mahim                 1\n",
       "Kurla East                15\n",
       "Gaurav Woods               2\n",
       "Society Mumbai             1\n",
       "CHS Prabhadevi             1\n",
       "Heights Gorai              2\n",
       "Apartments Bandra          1\n",
       "Navimumbai Mumbai          2\n",
       "shilpa Mumbai              1\n",
       "Neptune Powai              2\n",
       "Aangan Oshiwara            1\n",
       "building Mumbai            3\n",
       "Classic Vasai              2\n",
       "CHS Brahmanwadi            2\n",
       "Royal Palms                2\n",
       "Appartments Prabhadevi     2\n",
       "Nagar Malvani              3\n",
       "Name: count, dtype: int64"
      ]
     },
     "execution_count": 99,
     "metadata": {},
     "output_type": "execute_result"
    }
   ],
   "source": [
    "a.sample(30)"
   ]
  },
  {
   "cell_type": "code",
   "execution_count": null,
   "id": "568f39d7",
   "metadata": {},
   "outputs": [],
   "source": []
  }
 ],
 "metadata": {
  "kernelspec": {
   "display_name": "Python 3 (ipykernel)",
   "language": "python",
   "name": "python3"
  },
  "language_info": {
   "codemirror_mode": {
    "name": "ipython",
    "version": 3
   },
   "file_extension": ".py",
   "mimetype": "text/x-python",
   "name": "python",
   "nbconvert_exporter": "python",
   "pygments_lexer": "ipython3",
   "version": "3.11.5"
  }
 },
 "nbformat": 4,
 "nbformat_minor": 5
}
