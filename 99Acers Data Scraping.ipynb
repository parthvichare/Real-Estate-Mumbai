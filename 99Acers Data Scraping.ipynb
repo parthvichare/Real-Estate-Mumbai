{
 "cells": [
  {
   "cell_type": "code",
   "execution_count": 2,
   "id": "92386741",
   "metadata": {},
   "outputs": [
    {
     "name": "stderr",
     "output_type": "stream",
     "text": [
      "C:\\Users\\ADMIN\\anaconda3\\Lib\\site-packages\\pandas\\core\\arrays\\masked.py:60: UserWarning: Pandas requires version '1.3.6' or newer of 'bottleneck' (version '1.3.5' currently installed).\n",
      "  from pandas.core import (\n"
     ]
    }
   ],
   "source": [
    "import pandas as pd\n",
    "import numpy as np"
   ]
  },
  {
   "cell_type": "code",
   "execution_count": 11,
   "id": "ab4d79e5",
   "metadata": {},
   "outputs": [
    {
     "name": "stdout",
     "output_type": "stream",
     "text": [
      "Requirement already satisfied: openpyxl in c:\\users\\admin\\anaconda3\\lib\\site-packages (3.0.10)\n",
      "Collecting openpyxl\n",
      "  Downloading openpyxl-3.1.2-py2.py3-none-any.whl (249 kB)\n",
      "     ---------------------------------------- 0.0/250.0 kB ? eta -:--:--\n",
      "     --------- ----------------------------- 61.4/250.0 kB 1.6 MB/s eta 0:00:01\n",
      "     -------------------------------------- 250.0/250.0 kB 3.8 MB/s eta 0:00:00\n",
      "Requirement already satisfied: et-xmlfile in c:\\users\\admin\\anaconda3\\lib\\site-packages (from openpyxl) (1.1.0)\n",
      "Installing collected packages: openpyxl\n",
      "  Attempting uninstall: openpyxl\n",
      "    Found existing installation: openpyxl 3.0.10\n",
      "    Uninstalling openpyxl-3.0.10:\n",
      "      Successfully uninstalled openpyxl-3.0.10\n"
     ]
    },
    {
     "name": "stderr",
     "output_type": "stream",
     "text": [
      "ERROR: Could not install packages due to an OSError: [WinError 5] Access is denied: 'C:\\\\Users\\\\ADMIN\\\\anaconda3\\\\Lib\\\\site-packages\\\\~penpyxl\\\\utils\\\\cell.cp311-win_amd64.pyd'\n",
      "Consider using the `--user` option or check the permissions.\n",
      "\n"
     ]
    }
   ],
   "source": [
    "!pip install openpyxl --upgrade"
   ]
  },
  {
   "cell_type": "code",
   "execution_count": 3,
   "id": "50dd0f0e",
   "metadata": {},
   "outputs": [],
   "source": [
    "df=pd.read_excel('Ready_to_move.xlsx')"
   ]
  },
  {
   "cell_type": "code",
   "execution_count": 5,
   "id": "fa590a3f",
   "metadata": {},
   "outputs": [
    {
     "data": {
      "text/html": [
       "<div>\n",
       "<style scoped>\n",
       "    .dataframe tbody tr th:only-of-type {\n",
       "        vertical-align: middle;\n",
       "    }\n",
       "\n",
       "    .dataframe tbody tr th {\n",
       "        vertical-align: top;\n",
       "    }\n",
       "\n",
       "    .dataframe thead th {\n",
       "        text-align: right;\n",
       "    }\n",
       "</style>\n",
       "<table border=\"1\" class=\"dataframe\">\n",
       "  <thead>\n",
       "    <tr style=\"text-align: right;\">\n",
       "      <th></th>\n",
       "      <th>Name</th>\n",
       "      <th>Link</th>\n",
       "      <th>Society</th>\n",
       "      <th>Price</th>\n",
       "      <th>Sqft</th>\n",
       "      <th>Carpet</th>\n",
       "      <th>Furnished</th>\n",
       "      <th>Floor</th>\n",
       "      <th>balcony</th>\n",
       "      <th>bathroom</th>\n",
       "      <th>Bedroom</th>\n",
       "    </tr>\n",
       "  </thead>\n",
       "  <tbody>\n",
       "    <tr>\n",
       "      <th>0</th>\n",
       "      <td>3 BHK Ready to Occupy Flat for sale in Girivan...</td>\n",
       "      <td>https://www.magicbricks.com/girivan-paramjyoti...</td>\n",
       "      <td>Girivan Paramjyoti</td>\n",
       "      <td>₹3.10 Cr</td>\n",
       "      <td>₹25833 per sqft</td>\n",
       "      <td>979 sqft</td>\n",
       "      <td>Semi-Furnished</td>\n",
       "      <td>6 out of 13</td>\n",
       "      <td>1</td>\n",
       "      <td>3.0</td>\n",
       "      <td>3.0</td>\n",
       "    </tr>\n",
       "    <tr>\n",
       "      <th>1</th>\n",
       "      <td>2 BHK Ready to Occupy Flat for sale Dahisar West</td>\n",
       "      <td>NaN</td>\n",
       "      <td>NaN</td>\n",
       "      <td>₹1.85 Cr</td>\n",
       "      <td>NaN</td>\n",
       "      <td>707 sqft</td>\n",
       "      <td>Unfurnished</td>\n",
       "      <td>3 out of 6</td>\n",
       "      <td>NaN</td>\n",
       "      <td>2.0</td>\n",
       "      <td>2.0</td>\n",
       "    </tr>\n",
       "    <tr>\n",
       "      <th>2</th>\n",
       "      <td>1 BHK Ready to Occupy Flat for sale Chembur East</td>\n",
       "      <td>NaN</td>\n",
       "      <td>NaN</td>\n",
       "      <td>₹38 Lac</td>\n",
       "      <td>₹13103 per sqft</td>\n",
       "      <td>NaN</td>\n",
       "      <td>Furnished</td>\n",
       "      <td>1 out of 3</td>\n",
       "      <td>NaN</td>\n",
       "      <td>1.0</td>\n",
       "      <td>1.0</td>\n",
       "    </tr>\n",
       "  </tbody>\n",
       "</table>\n",
       "</div>"
      ],
      "text/plain": [
       "                                                Name  \\\n",
       "0  3 BHK Ready to Occupy Flat for sale in Girivan...   \n",
       "1   2 BHK Ready to Occupy Flat for sale Dahisar West   \n",
       "2   1 BHK Ready to Occupy Flat for sale Chembur East   \n",
       "\n",
       "                                                Link             Society  \\\n",
       "0  https://www.magicbricks.com/girivan-paramjyoti...  Girivan Paramjyoti   \n",
       "1                                                NaN                 NaN   \n",
       "2                                                NaN                 NaN   \n",
       "\n",
       "      Price             Sqft    Carpet       Furnished        Floor balcony  \\\n",
       "0  ₹3.10 Cr  ₹25833 per sqft  979 sqft  Semi-Furnished  6 out of 13       1   \n",
       "1  ₹1.85 Cr              NaN  707 sqft     Unfurnished   3 out of 6     NaN   \n",
       "2   ₹38 Lac  ₹13103 per sqft       NaN       Furnished   1 out of 3     NaN   \n",
       "\n",
       "   bathroom  Bedroom  \n",
       "0       3.0      3.0  \n",
       "1       2.0      2.0  \n",
       "2       1.0      1.0  "
      ]
     },
     "execution_count": 5,
     "metadata": {},
     "output_type": "execute_result"
    }
   ],
   "source": [
    "df.head(3)"
   ]
  },
  {
   "cell_type": "code",
   "execution_count": 7,
   "id": "d67e3cfc",
   "metadata": {},
   "outputs": [
    {
     "data": {
      "text/plain": [
       "(4770, 11)"
      ]
     },
     "execution_count": 7,
     "metadata": {},
     "output_type": "execute_result"
    }
   ],
   "source": [
    "df.shape"
   ]
  },
  {
   "cell_type": "code",
   "execution_count": 8,
   "id": "16eba0b7",
   "metadata": {},
   "outputs": [
    {
     "name": "stdout",
     "output_type": "stream",
     "text": [
      "<class 'pandas.core.frame.DataFrame'>\n",
      "RangeIndex: 4770 entries, 0 to 4769\n",
      "Data columns (total 11 columns):\n",
      " #   Column     Non-Null Count  Dtype  \n",
      "---  ------     --------------  -----  \n",
      " 0   Name       4770 non-null   object \n",
      " 1   Link       2928 non-null   object \n",
      " 2   Society    2928 non-null   object \n",
      " 3   Price      4770 non-null   object \n",
      " 4   Sqft       4370 non-null   object \n",
      " 5   Carpet     3488 non-null   object \n",
      " 6   Furnished  4717 non-null   object \n",
      " 7   Floor      4737 non-null   object \n",
      " 8   balcony    1798 non-null   object \n",
      " 9   bathroom   4748 non-null   float64\n",
      " 10  Bedroom    4643 non-null   float64\n",
      "dtypes: float64(2), object(9)\n",
      "memory usage: 410.1+ KB\n"
     ]
    }
   ],
   "source": [
    "df.info()"
   ]
  },
  {
   "cell_type": "code",
   "execution_count": 9,
   "id": "e8985e54",
   "metadata": {},
   "outputs": [
    {
     "data": {
      "text/plain": [
       "Name            0\n",
       "Link         1842\n",
       "Society      1842\n",
       "Price           0\n",
       "Sqft          400\n",
       "Carpet       1282\n",
       "Furnished      53\n",
       "Floor          33\n",
       "balcony      2972\n",
       "bathroom       22\n",
       "Bedroom       127\n",
       "dtype: int64"
      ]
     },
     "execution_count": 9,
     "metadata": {},
     "output_type": "execute_result"
    }
   ],
   "source": [
    "df.isnull().sum()"
   ]
  },
  {
   "cell_type": "code",
   "execution_count": 10,
   "id": "0480c963",
   "metadata": {},
   "outputs": [
    {
     "data": {
      "text/plain": [
       "0       ₹25833 per sqft\n",
       "1                   NaN\n",
       "2       ₹13103 per sqft\n",
       "3       ₹16071 per sqft\n",
       "4       ₹40000 per sqft\n",
       "             ...       \n",
       "4765    ₹25896 per sqft\n",
       "4766    ₹10000 per sqft\n",
       "4767    ₹32917 per sqft\n",
       "4768    ₹48571 per sqft\n",
       "4769     ₹6296 per sqft\n",
       "Name: Sqft, Length: 4770, dtype: object"
      ]
     },
     "execution_count": 10,
     "metadata": {},
     "output_type": "execute_result"
    }
   ],
   "source": [
    "df['Sqft']"
   ]
  },
  {
   "cell_type": "code",
   "execution_count": 11,
   "id": "69ea9a77",
   "metadata": {},
   "outputs": [
    {
     "data": {
      "text/html": [
       "<div>\n",
       "<style scoped>\n",
       "    .dataframe tbody tr th:only-of-type {\n",
       "        vertical-align: middle;\n",
       "    }\n",
       "\n",
       "    .dataframe tbody tr th {\n",
       "        vertical-align: top;\n",
       "    }\n",
       "\n",
       "    .dataframe thead th {\n",
       "        text-align: right;\n",
       "    }\n",
       "</style>\n",
       "<table border=\"1\" class=\"dataframe\">\n",
       "  <thead>\n",
       "    <tr style=\"text-align: right;\">\n",
       "      <th></th>\n",
       "      <th>Name</th>\n",
       "      <th>Link</th>\n",
       "      <th>Society</th>\n",
       "      <th>Price</th>\n",
       "      <th>Sqft</th>\n",
       "      <th>Carpet</th>\n",
       "      <th>Furnished</th>\n",
       "      <th>Floor</th>\n",
       "      <th>balcony</th>\n",
       "      <th>bathroom</th>\n",
       "      <th>Bedroom</th>\n",
       "    </tr>\n",
       "  </thead>\n",
       "  <tbody>\n",
       "    <tr>\n",
       "      <th>0</th>\n",
       "      <td>3 BHK Ready to Occupy Flat for sale in Girivan...</td>\n",
       "      <td>https://www.magicbricks.com/girivan-paramjyoti...</td>\n",
       "      <td>Girivan Paramjyoti</td>\n",
       "      <td>₹3.10 Cr</td>\n",
       "      <td>₹25833 per sqft</td>\n",
       "      <td>979 sqft</td>\n",
       "      <td>Semi-Furnished</td>\n",
       "      <td>6 out of 13</td>\n",
       "      <td>1</td>\n",
       "      <td>3.0</td>\n",
       "      <td>3.0</td>\n",
       "    </tr>\n",
       "    <tr>\n",
       "      <th>1</th>\n",
       "      <td>2 BHK Ready to Occupy Flat for sale Dahisar West</td>\n",
       "      <td>NaN</td>\n",
       "      <td>NaN</td>\n",
       "      <td>₹1.85 Cr</td>\n",
       "      <td>NaN</td>\n",
       "      <td>707 sqft</td>\n",
       "      <td>Unfurnished</td>\n",
       "      <td>3 out of 6</td>\n",
       "      <td>NaN</td>\n",
       "      <td>2.0</td>\n",
       "      <td>2.0</td>\n",
       "    </tr>\n",
       "    <tr>\n",
       "      <th>2</th>\n",
       "      <td>1 BHK Ready to Occupy Flat for sale Chembur East</td>\n",
       "      <td>NaN</td>\n",
       "      <td>NaN</td>\n",
       "      <td>₹38 Lac</td>\n",
       "      <td>₹13103 per sqft</td>\n",
       "      <td>NaN</td>\n",
       "      <td>Furnished</td>\n",
       "      <td>1 out of 3</td>\n",
       "      <td>NaN</td>\n",
       "      <td>1.0</td>\n",
       "      <td>1.0</td>\n",
       "    </tr>\n",
       "  </tbody>\n",
       "</table>\n",
       "</div>"
      ],
      "text/plain": [
       "                                                Name  \\\n",
       "0  3 BHK Ready to Occupy Flat for sale in Girivan...   \n",
       "1   2 BHK Ready to Occupy Flat for sale Dahisar West   \n",
       "2   1 BHK Ready to Occupy Flat for sale Chembur East   \n",
       "\n",
       "                                                Link             Society  \\\n",
       "0  https://www.magicbricks.com/girivan-paramjyoti...  Girivan Paramjyoti   \n",
       "1                                                NaN                 NaN   \n",
       "2                                                NaN                 NaN   \n",
       "\n",
       "      Price             Sqft    Carpet       Furnished        Floor balcony  \\\n",
       "0  ₹3.10 Cr  ₹25833 per sqft  979 sqft  Semi-Furnished  6 out of 13       1   \n",
       "1  ₹1.85 Cr              NaN  707 sqft     Unfurnished   3 out of 6     NaN   \n",
       "2   ₹38 Lac  ₹13103 per sqft       NaN       Furnished   1 out of 3     NaN   \n",
       "\n",
       "   bathroom  Bedroom  \n",
       "0       3.0      3.0  \n",
       "1       2.0      2.0  \n",
       "2       1.0      1.0  "
      ]
     },
     "execution_count": 11,
     "metadata": {},
     "output_type": "execute_result"
    }
   ],
   "source": [
    "df.head(3)"
   ]
  },
  {
   "cell_type": "code",
   "execution_count": 14,
   "id": "14b7796f",
   "metadata": {},
   "outputs": [
    {
     "data": {
      "text/plain": [
       "Index(['property_name', 'link', 'society', 'price', 'area', 'areaWithType',\n",
       "       'bedRoom', 'bathroom', 'balcony', 'additionalRoom', 'address',\n",
       "       'floorNum', 'facing', 'agePossession', 'nearbyLocations', 'description',\n",
       "       'furnishDetails', 'features', 'rating', 'property_id'],\n",
       "      dtype='object')"
      ]
     },
     "execution_count": 14,
     "metadata": {},
     "output_type": "execute_result"
    }
   ],
   "source": [
    "flats=pd.read_excel('flats.xlsx')\n",
    "flats.columns"
   ]
  },
  {
   "cell_type": "code",
   "execution_count": 16,
   "id": "38c7f00b",
   "metadata": {},
   "outputs": [
    {
     "data": {
      "text/plain": [
       "Index(['property_name', 'link', 'society', 'price', 'rate', 'area',\n",
       "       'areaWithType', 'bedRoom', 'bathroom', 'balcony', 'additionalRoom',\n",
       "       'address', 'noOfFloor', 'facing', 'agePossession', 'nearbyLocations',\n",
       "       'description', 'furnishDetails', 'features', 'rating', 'property_id'],\n",
       "      dtype='object')"
      ]
     },
     "execution_count": 16,
     "metadata": {},
     "output_type": "execute_result"
    }
   ],
   "source": [
    "independent_house=pd.read_excel('independent-house.xlsx')\n",
    "independent_house.columns"
   ]
  },
  {
   "cell_type": "code",
   "execution_count": 20,
   "id": "080de901",
   "metadata": {},
   "outputs": [
    {
     "data": {
      "text/plain": [
       "Index(['property_name', 'link', 'society', 'price', 'areaWithType', 'address',\n",
       "       'floorNumAllowed', 'noOfOpenSides', 'possession', 'nearbyLocations',\n",
       "       'description', 'features', 'rating', 'property_id'],\n",
       "      dtype='object')"
      ]
     },
     "execution_count": 20,
     "metadata": {},
     "output_type": "execute_result"
    }
   ],
   "source": [
    "residental=pd.read_excel('residential-land.xlsx')\n",
    "residental.columns"
   ]
  },
  {
   "cell_type": "code",
   "execution_count": 21,
   "id": "1cb976ba",
   "metadata": {},
   "outputs": [
    {
     "data": {
      "text/plain": [
       "Index(['Name', 'Link', 'Society', 'Price', 'Sqft', 'Carpet', 'Furnished',\n",
       "       'Floor', 'balcony', 'bathroom', 'Bedroom'],\n",
       "      dtype='object')"
      ]
     },
     "execution_count": 21,
     "metadata": {},
     "output_type": "execute_result"
    }
   ],
   "source": [
    "df.columns"
   ]
  },
  {
   "cell_type": "code",
   "execution_count": 23,
   "id": "49f04f6d",
   "metadata": {},
   "outputs": [
    {
     "data": {
      "text/plain": [
       "0    (209 sq.m.) Plot Area\n",
       "1     (17 sq.m.) Plot Area\n",
       "Name: areaWithType, dtype: object"
      ]
     },
     "execution_count": 23,
     "metadata": {},
     "output_type": "execute_result"
    }
   ],
   "source": [
    "residental['areaWithType'].head(2)"
   ]
  },
  {
   "cell_type": "code",
   "execution_count": 31,
   "id": "aa4444e2",
   "metadata": {},
   "outputs": [
    {
     "data": {
      "text/plain": [
       "\"['Rapid Metro Sector 55-56', 'CBR Cricket Ground', 'Gurugram Public School', 'Swastik Multispeciality Hospital', 'IGI Airport', 'Lemon Tree Hotel', 'SCC Drive-In Cinema']\""
      ]
     },
     "execution_count": 31,
     "metadata": {},
     "output_type": "execute_result"
    }
   ],
   "source": [
    "residental['nearbyLocations'][0]"
   ]
  },
  {
   "cell_type": "code",
   "execution_count": 32,
   "id": "ba4e7f28",
   "metadata": {},
   "outputs": [
    {
     "data": {
      "text/plain": [
       "'https://www.magicbricks.com/girivan-paramjyoti-chembur-mumbai-pdpid-4d4235303939303337'"
      ]
     },
     "execution_count": 32,
     "metadata": {},
     "output_type": "execute_result"
    }
   ],
   "source": [
    "df['Link'][0]"
   ]
  },
  {
   "cell_type": "code",
   "execution_count": 34,
   "id": "7d9dd5f1",
   "metadata": {},
   "outputs": [
    {
     "data": {
      "text/plain": [
       "Index(['Name', 'Link', 'Society', 'Price', 'Sqft', 'Carpet', 'Furnished',\n",
       "       'Floor', 'balcony', 'bathroom', 'Bedroom'],\n",
       "      dtype='object')"
      ]
     },
     "execution_count": 34,
     "metadata": {},
     "output_type": "execute_result"
    }
   ],
   "source": [
    "df.columns"
   ]
  },
  {
   "cell_type": "code",
   "execution_count": 37,
   "id": "cbaf0245",
   "metadata": {},
   "outputs": [
    {
     "data": {
      "text/plain": [
       "Index(['property_name', 'link', 'society', 'price', 'area', 'areaWithType',\n",
       "       'bedRoom', 'bathroom', 'balcony', 'additionalRoom', 'address',\n",
       "       'floorNum', 'facing', 'agePossession', 'nearbyLocations', 'description',\n",
       "       'furnishDetails', 'features', 'rating', 'property_id'],\n",
       "      dtype='object')"
      ]
     },
     "execution_count": 37,
     "metadata": {},
     "output_type": "execute_result"
    }
   ],
   "source": [
    "flats.columns"
   ]
  },
  {
   "cell_type": "code",
   "execution_count": 42,
   "id": "28b0a6a7",
   "metadata": {},
   "outputs": [
    {
     "data": {
      "text/plain": [
       "0    ['Environment4 out of 5', 'Safety4 out of 5', ...\n",
       "1    ['Environment4 out of 5', 'Safety4 out of 5', ...\n",
       "2    ['Environment4 out of 5', 'Safety4 out of 5', ...\n",
       "3                                                  NaN\n",
       "4    ['Environment5 out of 5', 'Safety3 out of 5', ...\n",
       "5                                                  NaN\n",
       "6                                                  NaN\n",
       "7    ['Green Area4 out of 5', 'Amenities4.5 out of ...\n",
       "8                                                  NaN\n",
       "9    ['Environment4 out of 5', 'Safety4 out of 5', ...\n",
       "Name: rating, dtype: object"
      ]
     },
     "execution_count": 42,
     "metadata": {},
     "output_type": "execute_result"
    }
   ],
   "source": [
    "flats['rating'][0:10]"
   ]
  },
  {
   "cell_type": "code",
   "execution_count": 44,
   "id": "2d6ae823",
   "metadata": {},
   "outputs": [],
   "source": [
    "import requests\n",
    "from bs4 import BeautifulSoup\n",
    "\n",
    "# First, make a request to the main page\n",
    "main_url = \"https://www.magicbricks.com/flats-for-rent-in-mumbai-pppfr\"\n",
    "response = requests.get(main_url)\n",
    "\n",
    "if response.status_code == 200:\n",
    "    # Parse the HTML content of the main page\n",
    "    soup = BeautifulSoup(response.text, 'html.parser')\n",
    "\n",
    "    # Find the link to the second page within the main page\n",
    "    second_link = soup.find('a')\n",
    "\n",
    "    if second_link:\n",
    "        # Extract the URL of the second page\n",
    "        second_link_url = second_link['href']\n",
    "\n",
    "        # Now, you can make a request to the second link and scrape the information\n",
    "        second_response = requests.get(second_link_url)\n",
    "\n",
    "        if second_response.status_code == 200:\n",
    "            # Parse the HTML content of the second page\n",
    "            second_soup = BeautifulSoup(second_response.text, 'html.parser')\n",
    "\n",
    "            # Extract information as needed from the second page\n",
    "            # ...\n",
    "\n",
    "        else:\n",
    "            print(\"Unable to retrieve content from the second link.\")\n",
    "    else:\n",
    "        print(\"Second link not found on the main page.\")\n",
    "\n",
    "else:\n",
    "    print(\"Unable to retrieve content from the main page.\")\n"
   ]
  },
  {
   "cell_type": "code",
   "execution_count": 45,
   "id": "984934de",
   "metadata": {},
   "outputs": [
    {
     "data": {
      "text/plain": [
       "<a class=\"mb-header__main__logo__link\" data-testid=\"header-logo-link\" href=\"https://www.magicbricks.com?reqFrom=OA\"> </a>"
      ]
     },
     "execution_count": 45,
     "metadata": {},
     "output_type": "execute_result"
    }
   ],
   "source": [
    "second_link"
   ]
  },
  {
   "cell_type": "code",
   "execution_count": 46,
   "id": "4940fca6",
   "metadata": {},
   "outputs": [
    {
     "name": "stdout",
     "output_type": "stream",
     "text": [
      "https://www.magicbricks.com/propertyDetails/3-BHK-700-Sq-ft-Independent-House-FOR-Rent-in-Delhi&id=PW7c9psk6gIo\n"
     ]
    }
   ],
   "source": [
    "import random\n",
    "import string\n",
    "\n",
    "# Function to generate a random ID\n",
    "def generate_random_id(length=12):\n",
    "    characters = string.ascii_letters + string.digits\n",
    "    return ''.join(random.choice(characters) for i in range(length))\n",
    "\n",
    "# Function to create the property details link\n",
    "def create_property_details_link(property_name):\n",
    "    base_url = 'https://www.magicbricks.com/propertyDetails/'\n",
    "    random_id = generate_random_id()\n",
    "    link = f'{base_url}{property_name}&id={random_id}'\n",
    "    return link\n",
    "\n",
    "# Example usage:\n",
    "property_name = '3-BHK-700-Sq-ft-Independent-House-FOR-Rent-in-Delhi'\n",
    "generated_link = create_property_details_link(property_name)\n",
    "print(generated_link)\n"
   ]
  },
  {
   "cell_type": "code",
   "execution_count": 48,
   "id": "d34a2ccb",
   "metadata": {},
   "outputs": [
    {
     "name": "stdout",
     "output_type": "stream",
     "text": [
      "The property ID is: 4d423635393835383831\n"
     ]
    }
   ],
   "source": [
    "import re\n",
    "\n",
    "def get_property_id(url):\n",
    "    match = re.search(r'id=([a-zA-Z0-9]+)', url)\n",
    "    if match:\n",
    "        return match.group(1)\n",
    "    else:\n",
    "        return None\n",
    "\n",
    "# Example usage:\n",
    "property_url = 'https://www.magicbricks.com/propertyDetails/2-BHK-550-Sq-ft-Multistorey-Apartment-FOR-Rent-in-Mumbai&id=4d423635393835383831'\n",
    "property_id = get_property_id(property_url)\n",
    "\n",
    "if property_id:\n",
    "    print(f'The property ID is: {property_id}')\n",
    "else:\n",
    "    print('No property ID found in the URL.')\n",
    "\n"
   ]
  },
  {
   "cell_type": "code",
   "execution_count": null,
   "id": "5fc601c4",
   "metadata": {},
   "outputs": [],
   "source": [
    "import requests\n",
    "from bs4 import BeautifulSoup\n",
    "\n",
    "# URL of the webpage\n",
    "url = 'https://www.99acres.com/search/property/rent/mumbai-all?city=12&preference=R&area_unit=1&res_com=R'\n",
    "\n",
    "# Send a GET request to the webpage\n",
    "response = requests.get(url)\n",
    "\n",
    "# Parse the HTML content of the page using BeautifulSoup\n",
    "soup = BeautifulSoup(response.content, 'html.parser')\n",
    "\n",
    "# Extract all links from the page\n",
    "page_links = [a['href'] for a in soup.find_all('a', href=True)]\n",
    "\n",
    "# Print the extracted links\n",
    "print(\"All links on the page:\")\n",
    "for link in page_links:\n",
    "    print(link)\n"
   ]
  },
  {
   "cell_type": "code",
   "execution_count": 9,
   "id": "95119e3a",
   "metadata": {},
   "outputs": [
    {
     "name": "stdout",
     "output_type": "stream",
     "text": [
      "<a class=\"tupleNew__propertyHeading ellipsis\" href=\"https://www.99acres.com/1-bhk-bedroom-apartment-flat-for-rent-in-crown-thane-lodha-quality-homes-majiwada-mumbai-thane-540-sq-ft-r1-spid-Y70357028\"><h2 class=\"tupleNew__propType\"><span class=\"tupleNew__bOld\">1 BHK Flat for rent</span> in Majiwada, Thane</h2></a>\n",
      "<a class=\"tupleNew__propertyHeading ellipsis\" href=\"https://www.99acres.com/2-bhk-bedroom-apartment-flat-for-rent-in-raajyogini-chs-sector-17-kopar-khairane-mumbai-navi-1050-sq-ft-r1-spid-Z67748668\"><h2 class=\"tupleNew__propType\"><span class=\"tupleNew__bOld\">2 BHK Flat for rent</span> in Sector 17 Kopar Khairane, Navi Mumbai</h2></a>\n",
      "<a class=\"tupleNew__propertyHeading ellipsis\" href=\"https://www.99acres.com/1-bhk-bedroom-apartment-flat-for-rent-in-bhairaav-gold-crest-residency-ghansoli-navi-mumbai-693-sq-ft-spid-Y72929999\"><h2 class=\"tupleNew__propType\"><span class=\"tupleNew__bOld\">1 BHK Flat for rent</span> in <!-- -->Ghansoli, Navi Mumbai</h2></a>\n",
      "<a class=\"tupleNew__propertyHeading ellipsis\" href=\"https://www.99acres.com/1-bhk-bedroom-apartment-flat-for-rent-in-santacruz-west-mumbai-south-west-770-sq-ft-spid-U72886129\"><h2 class=\"tupleNew__propType\"><span class=\"tupleNew__bOld\">1 BHK Flat for rent</span> in <!-- -->Santacruz West, Mumbai</h2></a>\n",
      "<a class=\"tupleNew__propertyHeading ellipsis\" href=\"https://www.99acres.com/6-bhk-bedroom-independent-house-villa-for-rent-in-atur-park-chembur-mumbai-harbour-3200-sq-ft-spid-T73128711\"><h2 class=\"tupleNew__propType\"><span class=\"tupleNew__bOld\">6 Bedroom House for rent</span> in <!-- -->Chembur, Mumbai</h2></a>\n",
      "<a class=\"tupleNew__propertyHeading ellipsis\" href=\"https://www.99acres.com/3-bhk-bedroom-apartment-flat-for-rent-in-tilak-nagar-central-mumbai-suburbs-746-sq-ft-spid-M73071375\"><h2 class=\"tupleNew__propType\"><span class=\"tupleNew__bOld\">3 BHK Flat for rent</span> in <!-- -->Tilak nagar, Mumbai</h2></a>\n",
      "<a class=\"tupleNew__propertyHeading ellipsis\" href=\"https://www.99acres.com/3-bhk-bedroom-apartment-flat-for-rent-in-juhi-serenity-ghansoli-navi-mumbai-1250-sq-ft-spid-G72852851\"><h2 class=\"tupleNew__propType\"><span class=\"tupleNew__bOld\">3 BHK Flat for rent</span> in <!-- -->Ghansoli, Navi Mumbai</h2></a>\n",
      "<a class=\"tupleNew__propertyHeading ellipsis\" href=\"https://www.99acres.com/3-bhk-bedroom-apartment-flat-for-rent-in-nri-complex-phase-2-sector-58-seawoods-mumbai-navi-2500-sq-ft-spid-U72247016\"><h2 class=\"tupleNew__propType\"><span class=\"tupleNew__bOld\">3 BHK Flat for rent</span> in <!-- -->Sector 58 Seawoods, Navi Mumbai</h2></a>\n",
      "<a class=\"tupleNew__propertyHeading ellipsis\" href=\"https://www.99acres.com/3-bhk-bedroom-apartment-flat-for-rent-in-lok-everest-chs-mulund-west-central-mumbai-suburbs-1190-sq-ft-spid-R73332123\"><h2 class=\"tupleNew__propType\"><span class=\"tupleNew__bOld\">3 BHK Flat for rent</span> in <!-- -->Mulund West, Mumbai</h2></a>\n",
      "<a class=\"tupleNew__propertyHeading ellipsis\" href=\"https://www.99acres.com/1-bhk-bedroom-apartment-flat-for-rent-in-kannamwar-nagar-2-central-mumbai-suburbs-450-sq-ft-spid-O72942873\"><h2 class=\"tupleNew__propType\"><span class=\"tupleNew__bOld\">1 BHK Flat for rent</span> in <!-- -->Kannamwar Nagar 2, Mumbai</h2></a>\n",
      "<a class=\"tupleNew__propertyHeading ellipsis\" href=\"https://www.99acres.com/3-bhk-bedroom-apartment-flat-for-rent-in-chembur-east-mumbai-harbour-1705-sq-ft-spid-S73079911\"><h2 class=\"tupleNew__propType\"><span class=\"tupleNew__bOld\">3 BHK Flat for rent</span> in <!-- -->Chembur East, Mumbai</h2></a>\n",
      "<a class=\"tupleNew__propertyHeading ellipsis\" href=\"https://www.99acres.com/2-bhk-bedroom-apartment-flat-for-rent-in-cosmopolitan-chs-powai-central-mumbai-suburbs-893-sq-ft-spid-X73440077\"><h2 class=\"tupleNew__propType\"><span class=\"tupleNew__bOld\">2 BHK Flat for rent</span> in <!-- -->Powai, Mumbai</h2></a>\n",
      "<a class=\"tupleNew__propertyHeading ellipsis\" href=\"https://www.99acres.com/2-bhk-bedroom-serviced-apartment-flat-for-rent-in-lodha-lakeshore-greens-dombivili-east-mumbai-beyond-thane-628-sq-ft-spid-G72711805\"><h2 class=\"tupleNew__propType\"><span class=\"tupleNew__bOld\">2 BHK Serviced Apartment for rent</span> in <!-- -->Dombivli East, Mumbai</h2></a>\n",
      "<a class=\"tupleNew__propertyHeading ellipsis\" href=\"https://www.99acres.com/2-bhk-bedroom-apartment-flat-for-rent-in-lok-raunak-marol-mumbai-andheri-dahisar-1200-sq-ft-spid-T73285371\"><h2 class=\"tupleNew__propType\"><span class=\"tupleNew__bOld\">2 BHK Flat for rent</span> in <!-- -->Marol, Mumbai</h2></a>\n",
      "<a class=\"tupleNew__propertyHeading ellipsis\" href=\"https://www.99acres.com/2-bhk-bedroom-apartment-flat-for-rent-in-mulund-amit-chs-mulund-east-central-mumbai-suburbs-710-sq-ft-spid-B73245427\"><h2 class=\"tupleNew__propType\"><span class=\"tupleNew__bOld\">2 BHK Flat for rent</span> in <!-- -->Mulund East, Mumbai</h2></a>\n",
      "<a class=\"tupleNew__propertyHeading ellipsis\" href=\"https://www.99acres.com/2-bhk-bedroom-apartment-flat-for-rent-in-godrej-platinum-pirojshanagar-central-mumbai-suburbs-934-sq-ft-r3-spid-M65430964\"><h2 class=\"tupleNew__propType\"><span class=\"tupleNew__bOld\">2 BHK Flat for rent</span> in <!-- -->Pirojshanagar, Mumbai</h2></a>\n",
      "<a class=\"tupleNew__propertyHeading ellipsis\" href=\"https://www.99acres.com/2-bhk-bedroom-apartment-flat-for-rent-in-amantra-by-tata-housing-kalyan-west-mumbai-beyond-thane-763-sq-ft-spid-T73290969\"><h2 class=\"tupleNew__propType\"><span class=\"tupleNew__bOld\">2 BHK Flat for rent</span> in <!-- -->Kalyan West, Mumbai</h2></a>\n",
      "<a class=\"tupleNew__propertyHeading ellipsis\" href=\"https://www.99acres.com/4-bhk-bedroom-apartment-flat-for-rent-in-arkade-earth-kanjurmarg-east-central-mumbai-suburbs-1200-sq-ft-spid-K73293729\"><h2 class=\"tupleNew__propType\"><span class=\"tupleNew__bOld\">4 BHK Flat for rent</span> in <!-- -->Kanjurmarg East, Mumbai</h2></a>\n",
      "<a class=\"tupleNew__propertyHeading ellipsis\" href=\"https://www.99acres.com/2-bhk-bedroom-apartment-flat-for-rent-in-kanakia-silicon-valley-powai-central-mumbai-suburbs-822-sq-ft-r1-spid-V71479482\"><h2 class=\"tupleNew__propType\"><span class=\"tupleNew__bOld\">2 BHK Flat for rent</span> in <!-- -->Powai, Mumbai</h2></a>\n",
      "<a class=\"tupleNew__propertyHeading ellipsis\" href=\"https://www.99acres.com/1-bhk-bedroom-apartment-flat-for-rent-in-lodha-new-cuffe-parade-wadala-mumbai-harbour-465-sq-ft-spid-Q72617263\"><h2 class=\"tupleNew__propType\"><span class=\"tupleNew__bOld\">1 BHK Flat for rent</span> in <!-- -->Wadala, Mumbai</h2></a>\n",
      "<a class=\"tupleNew__propertyHeading ellipsis\" href=\"https://www.99acres.com/2-bhk-bedroom-apartment-flat-for-rent-in-tridhaatu-morya-chembur-east-mumbai-harbour-652-sq-ft-spid-C73047671\"><h2 class=\"tupleNew__propType\"><span class=\"tupleNew__bOld\">2 BHK Flat for rent</span> in <!-- -->Chembur East, Mumbai</h2></a>\n",
      "<a class=\"tupleNew__propertyHeading ellipsis\" href=\"https://www.99acres.com/4-bhk-bedroom-apartment-flat-for-rent-in-raj-grandeur-powai-central-mumbai-suburbs-3360-sq-ft-spid-D72428296\"><h2 class=\"tupleNew__propType\"><span class=\"tupleNew__bOld\">4 BHK Flat for rent</span> in <!-- -->Powai, Mumbai</h2></a>\n",
      "<a class=\"tupleNew__propertyHeading ellipsis\" href=\"https://www.99acres.com/1-bhk-bedroom-apartment-flat-for-rent-in-godrej-garden-enclave-vikhroli-east-central-mumbai-suburbs-528-sq-ft-spid-J73169743\"><h2 class=\"tupleNew__propType\"><span class=\"tupleNew__bOld\">1 BHK Flat for rent</span> in <!-- -->Vikhroli East, Mumbai</h2></a>\n",
      "<a class=\"tupleNew__propertyHeading ellipsis\" href=\"https://www.99acres.com/2-bhk-bedroom-apartment-flat-for-rent-in-tridhaatu-morya-chembur-east-mumbai-harbour-724-sq-ft-spid-M73109623\"><h2 class=\"tupleNew__propType\"><span class=\"tupleNew__bOld\">2 BHK Flat for rent</span> in <!-- -->Chembur East, Mumbai</h2></a>\n",
      "<a class=\"tupleNew__propertyHeading ellipsis\" href=\"https://www.99acres.com/2-bhk-bedroom-apartment-flat-for-rent-in-tridhaatu-morya-chembur-east-mumbai-harbour-652-sq-ft-spid-S73147965\"><h2 class=\"tupleNew__propType\"><span class=\"tupleNew__bOld\">2 BHK Flat for rent</span> in <!-- -->Chembur East, Mumbai</h2></a>\n",
      "<a class=\"tupleNew__propertyHeading ellipsis\" href=\"https://www.99acres.com/2-bhk-bedroom-apartment-flat-for-rent-in-tridhaatu-morya-chembur-east-mumbai-harbour-652-sq-ft-spid-W73047637\"><h2 class=\"tupleNew__propType\"><span class=\"tupleNew__bOld\">2 BHK Flat for rent</span> in <!-- -->Chembur East, Mumbai</h2></a>\n",
      "<a class=\"tupleNew__propertyHeading ellipsis\" href=\"https://www.99acres.com/2-bhk-bedroom-apartment-flat-for-rent-in-prarthana-grand-sewri-mumbai-harbour-750-sq-ft-spid-X72582489\"><h2 class=\"tupleNew__propType\"><span class=\"tupleNew__bOld\">2 BHK Flat for rent</span> in <!-- -->Sewri, Mumbai</h2></a>\n"
     ]
    }
   ],
   "source": [
    "from selenium import webdriver\n",
    "from bs4 import BeautifulSoup\n",
    "\n",
    "# Initialize the Chrome browser\n",
    "driver = webdriver.Chrome()\n",
    "\n",
    "# Open the 99acres website\n",
    "url = 'https://www.99acres.com/search/property/rent/mumbai-all?city=12&preference=R&area_unit=1&res_com=R'\n",
    "driver.get(url)\n",
    "\n",
    "# Wait for the page to load (you may need to adjust the wait time)\n",
    "driver.implicitly_wait(10)\n",
    "\n",
    "# Extract links using BeautifulSoup and Selenium\n",
    "property_links = []\n",
    "soup = BeautifulSoup(driver.page_source, 'html.parser')\n",
    "\n",
    "\n",
    "for i in soup.find_all('a',class_='tupleNew__propertyHeading ellipsis'):\n",
    "    print(i)\n",
    "\n",
    "# Close the browser\n",
    "driver.quit()\n"
   ]
  },
  {
   "cell_type": "code",
   "execution_count": 10,
   "id": "6a856712",
   "metadata": {},
   "outputs": [
    {
     "name": "stdout",
     "output_type": "stream",
     "text": [
      "Property Links:\n",
      "https://www.99acres.com/2-bhk-bedroom-apartment-flat-for-rent-in-naupada-mumbai-thane-950-sq-ft-spid-J73208205\n",
      "https://www.99acres.com/3-bhk-bedroom-apartment-flat-for-rent-in-lodha-venezia-parel-south-mumbai-1280-sq-ft-spid-C73023337\n",
      "https://www.99acres.com/1-bhk-bedroom-apartment-flat-for-rent-in-bhairaav-gold-crest-residency-ghansoli-navi-mumbai-693-sq-ft-spid-Y72929999\n",
      "https://www.99acres.com/1-bhk-bedroom-apartment-flat-for-rent-in-santacruz-west-mumbai-south-west-770-sq-ft-spid-U72886129\n",
      "https://www.99acres.com/6-bhk-bedroom-independent-house-villa-for-rent-in-atur-park-chembur-mumbai-harbour-3200-sq-ft-spid-T73128711\n",
      "https://www.99acres.com/3-bhk-bedroom-apartment-flat-for-rent-in-tilak-nagar-central-mumbai-suburbs-746-sq-ft-spid-M73071375\n",
      "https://www.99acres.com/3-bhk-bedroom-apartment-flat-for-rent-in-juhi-serenity-ghansoli-navi-mumbai-1250-sq-ft-spid-G72852851\n",
      "https://www.99acres.com/3-bhk-bedroom-apartment-flat-for-rent-in-nri-complex-phase-2-sector-58-seawoods-mumbai-navi-2500-sq-ft-spid-U72247016\n",
      "https://www.99acres.com/3-bhk-bedroom-apartment-flat-for-rent-in-lok-everest-chs-mulund-west-central-mumbai-suburbs-1190-sq-ft-spid-R73332123\n",
      "https://www.99acres.com/1-bhk-bedroom-apartment-flat-for-rent-in-kannamwar-nagar-2-central-mumbai-suburbs-450-sq-ft-spid-O72942873\n",
      "https://www.99acres.com/3-bhk-bedroom-apartment-flat-for-rent-in-chembur-east-mumbai-harbour-1705-sq-ft-spid-S73079911\n",
      "https://www.99acres.com/2-bhk-bedroom-apartment-flat-for-rent-in-cosmopolitan-chs-powai-central-mumbai-suburbs-893-sq-ft-spid-X73440077\n",
      "https://www.99acres.com/2-bhk-bedroom-serviced-apartment-flat-for-rent-in-lodha-lakeshore-greens-dombivili-east-mumbai-beyond-thane-628-sq-ft-spid-G72711805\n",
      "https://www.99acres.com/2-bhk-bedroom-apartment-flat-for-rent-in-lok-raunak-marol-mumbai-andheri-dahisar-1200-sq-ft-spid-T73285371\n",
      "https://www.99acres.com/2-bhk-bedroom-apartment-flat-for-rent-in-mulund-amit-chs-mulund-east-central-mumbai-suburbs-710-sq-ft-spid-B73245427\n",
      "https://www.99acres.com/2-bhk-bedroom-apartment-flat-for-rent-in-godrej-platinum-pirojshanagar-central-mumbai-suburbs-934-sq-ft-r3-spid-M65430964\n",
      "https://www.99acres.com/2-bhk-bedroom-apartment-flat-for-rent-in-amantra-by-tata-housing-kalyan-west-mumbai-beyond-thane-763-sq-ft-spid-T73290969\n",
      "https://www.99acres.com/4-bhk-bedroom-apartment-flat-for-rent-in-arkade-earth-kanjurmarg-east-central-mumbai-suburbs-1200-sq-ft-spid-K73293729\n",
      "https://www.99acres.com/2-bhk-bedroom-apartment-flat-for-rent-in-kanakia-silicon-valley-powai-central-mumbai-suburbs-822-sq-ft-r1-spid-V71479482\n",
      "https://www.99acres.com/1-bhk-bedroom-apartment-flat-for-rent-in-lodha-new-cuffe-parade-wadala-mumbai-harbour-465-sq-ft-spid-Q72617263\n",
      "https://www.99acres.com/2-bhk-bedroom-apartment-flat-for-rent-in-tridhaatu-morya-chembur-east-mumbai-harbour-652-sq-ft-spid-C73047671\n",
      "https://www.99acres.com/4-bhk-bedroom-apartment-flat-for-rent-in-raj-grandeur-powai-central-mumbai-suburbs-3360-sq-ft-spid-D72428296\n",
      "https://www.99acres.com/1-bhk-bedroom-apartment-flat-for-rent-in-godrej-garden-enclave-vikhroli-east-central-mumbai-suburbs-528-sq-ft-spid-J73169743\n",
      "https://www.99acres.com/2-bhk-bedroom-apartment-flat-for-rent-in-tridhaatu-morya-chembur-east-mumbai-harbour-724-sq-ft-spid-M73109623\n",
      "https://www.99acres.com/2-bhk-bedroom-apartment-flat-for-rent-in-tridhaatu-morya-chembur-east-mumbai-harbour-652-sq-ft-spid-S73147965\n",
      "https://www.99acres.com/2-bhk-bedroom-apartment-flat-for-rent-in-tridhaatu-morya-chembur-east-mumbai-harbour-652-sq-ft-spid-W73047637\n",
      "https://www.99acres.com/2-bhk-bedroom-apartment-flat-for-rent-in-prarthana-grand-sewri-mumbai-harbour-750-sq-ft-spid-X72582489\n"
     ]
    }
   ],
   "source": [
    "from selenium import webdriver\n",
    "from bs4 import BeautifulSoup\n",
    "\n",
    "# Initialize the Chrome browser\n",
    "driver = webdriver.Chrome()\n",
    "\n",
    "# Open the 99acres website\n",
    "url = 'https://www.99acres.com/search/property/rent/mumbai-all?city=12&preference=R&area_unit=1&res_com=R'\n",
    "driver.get(url)\n",
    "\n",
    "# Wait for the page to load (you may need to adjust the wait time)\n",
    "driver.implicitly_wait(10)\n",
    "\n",
    "# Extract links using BeautifulSoup and Selenium\n",
    "property_links = []\n",
    "soup = BeautifulSoup(driver.page_source, 'html.parser')\n",
    "\n",
    "for link in soup.find_all('a', class_='tupleNew__propertyHeading ellipsis', href=True):\n",
    "    property_links.append(link['href'])\n",
    "\n",
    "# Print the extracted property links\n",
    "print(\"Property Links:\")\n",
    "for link in property_links:\n",
    "    print(link)\n",
    "\n",
    "# Close the browser\n",
    "driver.quit()\n"
   ]
  },
  {
   "cell_type": "code",
   "execution_count": 6,
   "id": "b9f5790c",
   "metadata": {},
   "outputs": [],
   "source": [
    "import requests\n",
    "from selenium import webdriver\n",
    "from bs4 import BeautifulSoup\n",
    "\n",
    "driver = webdriver.Chrome()\n",
    "\n",
    "url='https://www.99acres.com/2-bhk-bedroom-apartment-flat-for-rent-in-naupada-mumbai-thane-950-sq-ft-spid-J73208205'\n",
    "\n",
    "driver.get(url)\n",
    "\n",
    "# Wait for the page to load (you may need to adjust the wait time)\n",
    "driver.implicitly_wait(10)\n",
    "\n",
    "# Extract links using BeautifulSoup and Selenium\n",
    "property_links = []\n",
    "soup = BeautifulSoup(driver.page_source, 'html.parser')"
   ]
  },
  {
   "cell_type": "code",
   "execution_count": 9,
   "id": "3289d520",
   "metadata": {},
   "outputs": [
    {
     "name": "stdout",
     "output_type": "stream",
     "text": [
      "Configuration2 Bedrooms , 2 Bathrooms,   No Balcony Rent₹ 43,000 View Rent DetailsRent of property Rs43,000Maintenance₹ 1/- (/ month)Brokerage₹ 43,000/- (Non-Negotiable)Deposit6 months rentAreaSuper Built up area 950(88.26 sq.m.)Built Up area: 890 sq.ft. (82.68 sq.m.)Carpet area: 750 sq.ft. (69.68 sq.m.)  sq.ft.AddressON REQUEST Naupada, ThaneFurnishingSemifurnished   View FurnishingsAvailable ForAllAvailable FromImmediatePosted By and OnDealer on Jan 16, 2024\n"
     ]
    }
   ],
   "source": [
    "for i in soup.find_all(class_='component__factTable generic__listNone'):\n",
    "    print(i.text.strip())"
   ]
  },
  {
   "cell_type": "code",
   "execution_count": 3,
   "id": "52fc042e",
   "metadata": {},
   "outputs": [
    {
     "ename": "AttributeError",
     "evalue": "'NoneType' object has no attribute 'find_all'",
     "output_type": "error",
     "traceback": [
      "\u001b[1;31m---------------------------------------------------------------------------\u001b[0m",
      "\u001b[1;31mAttributeError\u001b[0m                            Traceback (most recent call last)",
      "Cell \u001b[1;32mIn[3], line 1\u001b[0m\n\u001b[1;32m----> 1\u001b[0m \u001b[38;5;28;01mfor\u001b[39;00m i \u001b[38;5;129;01min\u001b[39;00m webpage\u001b[38;5;241m.\u001b[39mfind_all(\u001b[38;5;124m'\u001b[39m\u001b[38;5;124mspan\u001b[39m\u001b[38;5;124m'\u001b[39m):\n\u001b[0;32m      2\u001b[0m     \u001b[38;5;28mprint\u001b[39m(i)\n",
      "\u001b[1;31mAttributeError\u001b[0m: 'NoneType' object has no attribute 'find_all'"
     ]
    }
   ],
   "source": [
    "for i in webpage.find_all('span'):\n",
    "    print(i)"
   ]
  },
  {
   "cell_type": "code",
   "execution_count": 2,
   "id": "81450b71",
   "metadata": {},
   "outputs": [
    {
     "name": "stdout",
     "output_type": "stream",
     "text": [
      "Extracted Data:\n",
      "Configuration\n",
      "2 Bedrooms , 2 Bathrooms, 3+ Balconies\n",
      "Rent\n",
      "₹ 75,000 View Rent Details\n",
      "\n",
      "Area\n",
      "Super Built up area 1455\n",
      "(135.17 sq.m.)\n",
      "Built Up area: 1450 sq.ft. (134.71 sq.m.)\n",
      "Carpet area: 1040 sq.ft. (96.62 sq.m.)  \n",
      "sq.ft.\n",
      "Address\n",
      "on request\n",
      "Sector 15 Belapur, Navi Mumbai\n",
      "Furnishing\n",
      "Furnished   View Furnishings\n",
      "Available For\n",
      "Family Only\n",
      "Available From\n",
      "Immediate\n",
      "Posted By and On\n",
      "Dealer on Jan 30, 2024\n"
     ]
    }
   ],
   "source": [
    "from selenium import webdriver\n",
    "from selenium.webdriver.common.by import By\n",
    "from selenium.webdriver.support.ui import WebDriverWait\n",
    "from selenium.webdriver.support import expected_conditions as EC\n",
    "\n",
    "# Initialize the Chrome browser\n",
    "driver = webdriver.Chrome()\n",
    "\n",
    "# Open the 99acres website\n",
    "url = 'https://www.99acres.com/search/property/rent/mumbai-all?city=12&preference=R&area_unit=1&res_com=R'\n",
    "driver.get(url)\n",
    "\n",
    "# Wait for the page to load (you may need to adjust the wait time)\n",
    "wait = WebDriverWait(driver, 10)\n",
    "element = wait.until(EC.presence_of_element_located((By.CLASS_NAME, 'component__factTable')))\n",
    "\n",
    "# Extract data from the element with the specified class\n",
    "data = element.text\n",
    "\n",
    "# Print the extracted data\n",
    "print(\"Extracted Data:\")\n",
    "print(data)\n",
    "\n",
    "# Close the browser\n",
    "driver.quit()\n"
   ]
  },
  {
   "cell_type": "code",
   "execution_count": 4,
   "id": "6a0de5e5",
   "metadata": {},
   "outputs": [
    {
     "ename": "TimeoutException",
     "evalue": "Message: \n",
     "output_type": "error",
     "traceback": [
      "\u001b[1;31m---------------------------------------------------------------------------\u001b[0m",
      "\u001b[1;31mTimeoutException\u001b[0m                          Traceback (most recent call last)",
      "Cell \u001b[1;32mIn[4], line 15\u001b[0m\n\u001b[0;32m     13\u001b[0m \u001b[38;5;66;03m# Wait for the page to load (you may need to adjust the wait time)\u001b[39;00m\n\u001b[0;32m     14\u001b[0m wait \u001b[38;5;241m=\u001b[39m WebDriverWait(driver, \u001b[38;5;241m10\u001b[39m)\n\u001b[1;32m---> 15\u001b[0m elements \u001b[38;5;241m=\u001b[39m wait\u001b[38;5;241m.\u001b[39muntil(EC\u001b[38;5;241m.\u001b[39mpresence_of_all_elements_located((By\u001b[38;5;241m.\u001b[39mXPATH, \u001b[38;5;124m'\u001b[39m\u001b[38;5;124m//a[contains(@class, \u001b[39m\u001b[38;5;124m\"\u001b[39m\u001b[38;5;124mtupleNew__propertyImage\u001b[39m\u001b[38;5;124m\"\u001b[39m\u001b[38;5;124m)]\u001b[39m\u001b[38;5;124m'\u001b[39m)))\n\u001b[0;32m     17\u001b[0m \u001b[38;5;66;03m# Extract links from elements with the specified class\u001b[39;00m\n\u001b[0;32m     18\u001b[0m property_links \u001b[38;5;241m=\u001b[39m [element\u001b[38;5;241m.\u001b[39mget_attribute(\u001b[38;5;124m'\u001b[39m\u001b[38;5;124mhref\u001b[39m\u001b[38;5;124m'\u001b[39m) \u001b[38;5;28;01mfor\u001b[39;00m element \u001b[38;5;129;01min\u001b[39;00m elements]\n",
      "File \u001b[1;32m~\\anaconda3\\Lib\\site-packages\\selenium\\webdriver\\support\\wait.py:105\u001b[0m, in \u001b[0;36mWebDriverWait.until\u001b[1;34m(self, method, message)\u001b[0m\n\u001b[0;32m    103\u001b[0m     \u001b[38;5;28;01mif\u001b[39;00m time\u001b[38;5;241m.\u001b[39mmonotonic() \u001b[38;5;241m>\u001b[39m end_time:\n\u001b[0;32m    104\u001b[0m         \u001b[38;5;28;01mbreak\u001b[39;00m\n\u001b[1;32m--> 105\u001b[0m \u001b[38;5;28;01mraise\u001b[39;00m TimeoutException(message, screen, stacktrace)\n",
      "\u001b[1;31mTimeoutException\u001b[0m: Message: \n"
     ]
    }
   ],
   "source": [
    "from selenium import webdriver\n",
    "from selenium.webdriver.common.by import By\n",
    "from selenium.webdriver.support.ui import WebDriverWait\n",
    "from selenium.webdriver.support import expected_conditions as EC\n",
    "\n",
    "# Initialize the Chrome browser\n",
    "driver = webdriver.Chrome()\n",
    "\n",
    "# Open the 99acres website\n",
    "url = 'https://www.99acres.com/search/property/rent/mumbai-all?city=12&preference=R&area_unit=1&res_com=R'\n",
    "driver.get(url)\n",
    "\n",
    "# Wait for the page to load (you may need to adjust the wait time)\n",
    "wait = WebDriverWait(driver, 10)\n",
    "elements = wait.until(EC.presence_of_all_elements_located((By.XPATH, '//a[contains(@class, \"tupleNew__propertyImage\")]')))\n",
    "\n",
    "# Extract links from elements with the specified class\n",
    "property_links = [element.get_attribute('href') for element in elements]\n",
    "\n",
    "# Print the extracted property links\n",
    "print(\"Property Links:\")\n",
    "for link in property_links:\n",
    "    print(link)\n",
    "\n",
    "# Close the browser\n",
    "driver.quit()\n",
    "\n"
   ]
  },
  {
   "cell_type": "code",
   "execution_count": null,
   "id": "cbba22e3",
   "metadata": {},
   "outputs": [],
   "source": []
  }
 ],
 "metadata": {
  "kernelspec": {
   "display_name": "Python 3 (ipykernel)",
   "language": "python",
   "name": "python3"
  },
  "language_info": {
   "codemirror_mode": {
    "name": "ipython",
    "version": 3
   },
   "file_extension": ".py",
   "mimetype": "text/x-python",
   "name": "python",
   "nbconvert_exporter": "python",
   "pygments_lexer": "ipython3",
   "version": "3.11.5"
  }
 },
 "nbformat": 4,
 "nbformat_minor": 5
}
