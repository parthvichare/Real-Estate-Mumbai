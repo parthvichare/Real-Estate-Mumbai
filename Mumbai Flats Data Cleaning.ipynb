{
 "cells": [
  {
   "cell_type": "code",
   "execution_count": 274,
   "id": "3a8495ac",
   "metadata": {},
   "outputs": [],
   "source": [
    "import pandas as pd\n",
    "import numpy as np"
   ]
  },
  {
   "cell_type": "code",
   "execution_count": 275,
   "id": "6eb22634",
   "metadata": {},
   "outputs": [],
   "source": [
    "#Renames\n",
    "# df=df.rename(columns={'Sqft':'price_per_sqft','Carpet':'area','Price':'price','Bedroom':'bedroom',\n",
    "#                       'Floor':'floor','Furnished':'furnished','Name':'name'})"
   ]
  },
  {
   "cell_type": "code",
   "execution_count": 276,
   "id": "292ecd25",
   "metadata": {},
   "outputs": [],
   "source": [
    "df=pd.read_excel('Mumbai_flats.xlsx')\n",
    "df.drop(columns=['Link','Society'],inplace=True)"
   ]
  },
  {
   "cell_type": "code",
   "execution_count": 277,
   "id": "b11e1a51",
   "metadata": {},
   "outputs": [
    {
     "data": {
      "text/html": [
       "<div>\n",
       "<style scoped>\n",
       "    .dataframe tbody tr th:only-of-type {\n",
       "        vertical-align: middle;\n",
       "    }\n",
       "\n",
       "    .dataframe tbody tr th {\n",
       "        vertical-align: top;\n",
       "    }\n",
       "\n",
       "    .dataframe thead th {\n",
       "        text-align: right;\n",
       "    }\n",
       "</style>\n",
       "<table border=\"1\" class=\"dataframe\">\n",
       "  <thead>\n",
       "    <tr style=\"text-align: right;\">\n",
       "      <th></th>\n",
       "      <th>Name</th>\n",
       "      <th>Price</th>\n",
       "      <th>Sqft</th>\n",
       "      <th>Carpet</th>\n",
       "      <th>Furnished</th>\n",
       "      <th>Floor</th>\n",
       "      <th>balcony</th>\n",
       "      <th>bathroom</th>\n",
       "      <th>Bedroom</th>\n",
       "      <th>society</th>\n",
       "    </tr>\n",
       "  </thead>\n",
       "  <tbody>\n",
       "    <tr>\n",
       "      <th>0</th>\n",
       "      <td>3 BHK Ready to Occupy Flat for sale in Girivan...</td>\n",
       "      <td>₹3.10 Cr</td>\n",
       "      <td>₹25833 per sqft</td>\n",
       "      <td>979 sqft</td>\n",
       "      <td>Semi-Furnished</td>\n",
       "      <td>6 out of 13</td>\n",
       "      <td>1</td>\n",
       "      <td>3.0</td>\n",
       "      <td>3.0</td>\n",
       "      <td>Paramjyoti Chembur</td>\n",
       "    </tr>\n",
       "    <tr>\n",
       "      <th>1</th>\n",
       "      <td>2 BHK Ready to Occupy Flat for sale Dahisar West</td>\n",
       "      <td>₹1.85 Cr</td>\n",
       "      <td>NaN</td>\n",
       "      <td>707 sqft</td>\n",
       "      <td>Unfurnished</td>\n",
       "      <td>3 out of 6</td>\n",
       "      <td>NaN</td>\n",
       "      <td>2.0</td>\n",
       "      <td>2.0</td>\n",
       "      <td>Dahisar West</td>\n",
       "    </tr>\n",
       "    <tr>\n",
       "      <th>2</th>\n",
       "      <td>1 BHK Ready to Occupy Flat for sale Chembur East</td>\n",
       "      <td>₹38 Lac</td>\n",
       "      <td>₹13103 per sqft</td>\n",
       "      <td>NaN</td>\n",
       "      <td>Furnished</td>\n",
       "      <td>1 out of 3</td>\n",
       "      <td>NaN</td>\n",
       "      <td>1.0</td>\n",
       "      <td>1.0</td>\n",
       "      <td>Chembur East</td>\n",
       "    </tr>\n",
       "    <tr>\n",
       "      <th>3</th>\n",
       "      <td>2 BHK Ready to Occupy Flat for sale in Royal S...</td>\n",
       "      <td>₹1.80 Cr</td>\n",
       "      <td>₹16071 per sqft</td>\n",
       "      <td>625 sqft</td>\n",
       "      <td>Semi-Furnished</td>\n",
       "      <td>7 out of 16</td>\n",
       "      <td>NaN</td>\n",
       "      <td>2.0</td>\n",
       "      <td>2.0</td>\n",
       "      <td>Malad West</td>\n",
       "    </tr>\n",
       "    <tr>\n",
       "      <th>4</th>\n",
       "      <td>2 BHK Ready to Occupy Flat for sale Bandra West</td>\n",
       "      <td>₹3.20 Cr</td>\n",
       "      <td>₹40000 per sqft</td>\n",
       "      <td>560 sqft</td>\n",
       "      <td>Semi-Furnished</td>\n",
       "      <td>1 out of 4</td>\n",
       "      <td>1</td>\n",
       "      <td>2.0</td>\n",
       "      <td>2.0</td>\n",
       "      <td>Bandra West</td>\n",
       "    </tr>\n",
       "    <tr>\n",
       "      <th>...</th>\n",
       "      <td>...</td>\n",
       "      <td>...</td>\n",
       "      <td>...</td>\n",
       "      <td>...</td>\n",
       "      <td>...</td>\n",
       "      <td>...</td>\n",
       "      <td>...</td>\n",
       "      <td>...</td>\n",
       "      <td>...</td>\n",
       "      <td>...</td>\n",
       "    </tr>\n",
       "    <tr>\n",
       "      <th>3395</th>\n",
       "      <td>2 BHK Ready to Occupy Flat for sale in MICL Aa...</td>\n",
       "      <td>₹1.15 Cr</td>\n",
       "      <td>₹16429 per sqft</td>\n",
       "      <td>630 sqft</td>\n",
       "      <td>Semi-Furnished</td>\n",
       "      <td>21 out of 30</td>\n",
       "      <td>2</td>\n",
       "      <td>2.0</td>\n",
       "      <td>2.0</td>\n",
       "      <td>Mira Road</td>\n",
       "    </tr>\n",
       "    <tr>\n",
       "      <th>3396</th>\n",
       "      <td>2 BHK Ready to Occupy Flat for sale in Acme Aa...</td>\n",
       "      <td>₹1.60 Cr</td>\n",
       "      <td>₹20000 per sqft</td>\n",
       "      <td>NaN</td>\n",
       "      <td>Semi-Furnished</td>\n",
       "      <td>1 out of 5</td>\n",
       "      <td>NaN</td>\n",
       "      <td>2.0</td>\n",
       "      <td>2.0</td>\n",
       "      <td>Goregaon West</td>\n",
       "    </tr>\n",
       "    <tr>\n",
       "      <th>3397</th>\n",
       "      <td>1 BHK Ready to Occupy Flat for sale in Vaishna...</td>\n",
       "      <td>₹24 Lac</td>\n",
       "      <td>₹4364 per sqft</td>\n",
       "      <td>485 sqft</td>\n",
       "      <td>Unfurnished</td>\n",
       "      <td>1 out of 3</td>\n",
       "      <td>NaN</td>\n",
       "      <td>2.0</td>\n",
       "      <td>1.0</td>\n",
       "      <td>Complex Virar</td>\n",
       "    </tr>\n",
       "    <tr>\n",
       "      <th>3398</th>\n",
       "      <td>1 BHK Ready to Occupy Flat for sale in A And O...</td>\n",
       "      <td>₹75 Lac</td>\n",
       "      <td>NaN</td>\n",
       "      <td>315 sqft</td>\n",
       "      <td>Unfurnished</td>\n",
       "      <td>15 out of 23</td>\n",
       "      <td>NaN</td>\n",
       "      <td>2.0</td>\n",
       "      <td>1.0</td>\n",
       "      <td>Tambe Nagar</td>\n",
       "    </tr>\n",
       "    <tr>\n",
       "      <th>3399</th>\n",
       "      <td>3 BHK Ready to Occupy Flat for sale in Ratan S...</td>\n",
       "      <td>₹1.99 Cr</td>\n",
       "      <td>NaN</td>\n",
       "      <td>1150 sqft</td>\n",
       "      <td>Unfurnished</td>\n",
       "      <td>3 out of 7</td>\n",
       "      <td>1</td>\n",
       "      <td>3.0</td>\n",
       "      <td>3.0</td>\n",
       "      <td>Malad West</td>\n",
       "    </tr>\n",
       "  </tbody>\n",
       "</table>\n",
       "<p>3400 rows × 10 columns</p>\n",
       "</div>"
      ],
      "text/plain": [
       "                                                   Name     Price  \\\n",
       "0     3 BHK Ready to Occupy Flat for sale in Girivan...  ₹3.10 Cr   \n",
       "1      2 BHK Ready to Occupy Flat for sale Dahisar West  ₹1.85 Cr   \n",
       "2      1 BHK Ready to Occupy Flat for sale Chembur East   ₹38 Lac   \n",
       "3     2 BHK Ready to Occupy Flat for sale in Royal S...  ₹1.80 Cr   \n",
       "4       2 BHK Ready to Occupy Flat for sale Bandra West  ₹3.20 Cr   \n",
       "...                                                 ...       ...   \n",
       "3395  2 BHK Ready to Occupy Flat for sale in MICL Aa...  ₹1.15 Cr   \n",
       "3396  2 BHK Ready to Occupy Flat for sale in Acme Aa...  ₹1.60 Cr   \n",
       "3397  1 BHK Ready to Occupy Flat for sale in Vaishna...   ₹24 Lac   \n",
       "3398  1 BHK Ready to Occupy Flat for sale in A And O...   ₹75 Lac   \n",
       "3399  3 BHK Ready to Occupy Flat for sale in Ratan S...  ₹1.99 Cr   \n",
       "\n",
       "                 Sqft     Carpet       Furnished         Floor balcony  \\\n",
       "0     ₹25833 per sqft   979 sqft  Semi-Furnished   6 out of 13       1   \n",
       "1                 NaN   707 sqft     Unfurnished    3 out of 6     NaN   \n",
       "2     ₹13103 per sqft        NaN       Furnished    1 out of 3     NaN   \n",
       "3     ₹16071 per sqft   625 sqft  Semi-Furnished   7 out of 16     NaN   \n",
       "4     ₹40000 per sqft   560 sqft  Semi-Furnished    1 out of 4       1   \n",
       "...               ...        ...             ...           ...     ...   \n",
       "3395  ₹16429 per sqft   630 sqft  Semi-Furnished  21 out of 30       2   \n",
       "3396  ₹20000 per sqft        NaN  Semi-Furnished    1 out of 5     NaN   \n",
       "3397   ₹4364 per sqft   485 sqft     Unfurnished    1 out of 3     NaN   \n",
       "3398              NaN   315 sqft     Unfurnished  15 out of 23     NaN   \n",
       "3399              NaN  1150 sqft     Unfurnished    3 out of 7       1   \n",
       "\n",
       "      bathroom  Bedroom             society  \n",
       "0          3.0      3.0  Paramjyoti Chembur  \n",
       "1          2.0      2.0        Dahisar West  \n",
       "2          1.0      1.0        Chembur East  \n",
       "3          2.0      2.0          Malad West  \n",
       "4          2.0      2.0         Bandra West  \n",
       "...        ...      ...                 ...  \n",
       "3395       2.0      2.0           Mira Road  \n",
       "3396       2.0      2.0       Goregaon West  \n",
       "3397       2.0      1.0       Complex Virar  \n",
       "3398       2.0      1.0         Tambe Nagar  \n",
       "3399       3.0      3.0          Malad West  \n",
       "\n",
       "[3400 rows x 10 columns]"
      ]
     },
     "execution_count": 277,
     "metadata": {},
     "output_type": "execute_result"
    }
   ],
   "source": [
    "df"
   ]
  },
  {
   "cell_type": "code",
   "execution_count": 278,
   "id": "741f3787",
   "metadata": {},
   "outputs": [],
   "source": [
    "#Sample Data\n",
    "cleaned=pd.read_csv('flats_cleaned.csv')\n",
    "# cleaned.info()\n",
    "flats=pd.read_csv('flats.csv')"
   ]
  },
  {
   "cell_type": "markdown",
   "id": "713f12e1",
   "metadata": {},
   "source": [
    "# Converting Price into Float"
   ]
  },
  {
   "cell_type": "code",
   "execution_count": 279,
   "id": "3dcf7e19",
   "metadata": {},
   "outputs": [
    {
     "data": {
      "text/plain": [
       "0       3.10 Cr\n",
       "1       1.85 Cr\n",
       "2        38 Lac\n",
       "3       1.80 Cr\n",
       "4       3.20 Cr\n",
       "         ...   \n",
       "3395    1.15 Cr\n",
       "3396    1.60 Cr\n",
       "3397     24 Lac\n",
       "3398     75 Lac\n",
       "3399    1.99 Cr\n",
       "Name: Price, Length: 3400, dtype: object"
      ]
     },
     "execution_count": 279,
     "metadata": {},
     "output_type": "execute_result"
    }
   ],
   "source": [
    "import re\n",
    "df['Price']=df['Price'].str.replace('₹', '')\n",
    "df['Price']"
   ]
  },
  {
   "cell_type": "code",
   "execution_count": 280,
   "id": "70fe859c",
   "metadata": {},
   "outputs": [],
   "source": [
    "def treat_price(x):\n",
    "    if isinstance(x, float):  # Check if x is already a float\n",
    "        return x\n",
    "    elif 'Lac' in x:\n",
    "        return round(float(x.replace('Lac', '')) / 100, 2)  # Convert lakh to float\n",
    "    elif 'Cr' in x:\n",
    "        return round(float(x.replace('Cr', '')), 2)  # Keep 'Cr' amounts unchanged\n",
    "    else:\n",
    "        return round(float(x), 1)\n",
    "\n",
    "df['Price'] = df['Price'].apply(treat_price)"
   ]
  },
  {
   "cell_type": "code",
   "execution_count": 281,
   "id": "44d884bc",
   "metadata": {},
   "outputs": [
    {
     "data": {
      "text/html": [
       "<div>\n",
       "<style scoped>\n",
       "    .dataframe tbody tr th:only-of-type {\n",
       "        vertical-align: middle;\n",
       "    }\n",
       "\n",
       "    .dataframe tbody tr th {\n",
       "        vertical-align: top;\n",
       "    }\n",
       "\n",
       "    .dataframe thead th {\n",
       "        text-align: right;\n",
       "    }\n",
       "</style>\n",
       "<table border=\"1\" class=\"dataframe\">\n",
       "  <thead>\n",
       "    <tr style=\"text-align: right;\">\n",
       "      <th></th>\n",
       "      <th>Name</th>\n",
       "      <th>Price</th>\n",
       "      <th>Sqft</th>\n",
       "      <th>Carpet</th>\n",
       "      <th>Furnished</th>\n",
       "      <th>Floor</th>\n",
       "      <th>balcony</th>\n",
       "      <th>bathroom</th>\n",
       "      <th>Bedroom</th>\n",
       "      <th>society</th>\n",
       "    </tr>\n",
       "  </thead>\n",
       "  <tbody>\n",
       "    <tr>\n",
       "      <th>0</th>\n",
       "      <td>3 BHK Ready to Occupy Flat for sale in Girivan...</td>\n",
       "      <td>3.10</td>\n",
       "      <td>₹25833 per sqft</td>\n",
       "      <td>979 sqft</td>\n",
       "      <td>Semi-Furnished</td>\n",
       "      <td>6 out of 13</td>\n",
       "      <td>1</td>\n",
       "      <td>3.0</td>\n",
       "      <td>3.0</td>\n",
       "      <td>Paramjyoti Chembur</td>\n",
       "    </tr>\n",
       "    <tr>\n",
       "      <th>1</th>\n",
       "      <td>2 BHK Ready to Occupy Flat for sale Dahisar West</td>\n",
       "      <td>1.85</td>\n",
       "      <td>NaN</td>\n",
       "      <td>707 sqft</td>\n",
       "      <td>Unfurnished</td>\n",
       "      <td>3 out of 6</td>\n",
       "      <td>NaN</td>\n",
       "      <td>2.0</td>\n",
       "      <td>2.0</td>\n",
       "      <td>Dahisar West</td>\n",
       "    </tr>\n",
       "    <tr>\n",
       "      <th>2</th>\n",
       "      <td>1 BHK Ready to Occupy Flat for sale Chembur East</td>\n",
       "      <td>0.38</td>\n",
       "      <td>₹13103 per sqft</td>\n",
       "      <td>NaN</td>\n",
       "      <td>Furnished</td>\n",
       "      <td>1 out of 3</td>\n",
       "      <td>NaN</td>\n",
       "      <td>1.0</td>\n",
       "      <td>1.0</td>\n",
       "      <td>Chembur East</td>\n",
       "    </tr>\n",
       "    <tr>\n",
       "      <th>3</th>\n",
       "      <td>2 BHK Ready to Occupy Flat for sale in Royal S...</td>\n",
       "      <td>1.80</td>\n",
       "      <td>₹16071 per sqft</td>\n",
       "      <td>625 sqft</td>\n",
       "      <td>Semi-Furnished</td>\n",
       "      <td>7 out of 16</td>\n",
       "      <td>NaN</td>\n",
       "      <td>2.0</td>\n",
       "      <td>2.0</td>\n",
       "      <td>Malad West</td>\n",
       "    </tr>\n",
       "    <tr>\n",
       "      <th>4</th>\n",
       "      <td>2 BHK Ready to Occupy Flat for sale Bandra West</td>\n",
       "      <td>3.20</td>\n",
       "      <td>₹40000 per sqft</td>\n",
       "      <td>560 sqft</td>\n",
       "      <td>Semi-Furnished</td>\n",
       "      <td>1 out of 4</td>\n",
       "      <td>1</td>\n",
       "      <td>2.0</td>\n",
       "      <td>2.0</td>\n",
       "      <td>Bandra West</td>\n",
       "    </tr>\n",
       "  </tbody>\n",
       "</table>\n",
       "</div>"
      ],
      "text/plain": [
       "                                                Name  Price             Sqft  \\\n",
       "0  3 BHK Ready to Occupy Flat for sale in Girivan...   3.10  ₹25833 per sqft   \n",
       "1   2 BHK Ready to Occupy Flat for sale Dahisar West   1.85              NaN   \n",
       "2   1 BHK Ready to Occupy Flat for sale Chembur East   0.38  ₹13103 per sqft   \n",
       "3  2 BHK Ready to Occupy Flat for sale in Royal S...   1.80  ₹16071 per sqft   \n",
       "4    2 BHK Ready to Occupy Flat for sale Bandra West   3.20  ₹40000 per sqft   \n",
       "\n",
       "     Carpet       Furnished        Floor balcony  bathroom  Bedroom  \\\n",
       "0  979 sqft  Semi-Furnished  6 out of 13       1       3.0      3.0   \n",
       "1  707 sqft     Unfurnished   3 out of 6     NaN       2.0      2.0   \n",
       "2       NaN       Furnished   1 out of 3     NaN       1.0      1.0   \n",
       "3  625 sqft  Semi-Furnished  7 out of 16     NaN       2.0      2.0   \n",
       "4  560 sqft  Semi-Furnished   1 out of 4       1       2.0      2.0   \n",
       "\n",
       "              society  \n",
       "0  Paramjyoti Chembur  \n",
       "1        Dahisar West  \n",
       "2        Chembur East  \n",
       "3          Malad West  \n",
       "4         Bandra West  "
      ]
     },
     "execution_count": 281,
     "metadata": {},
     "output_type": "execute_result"
    }
   ],
   "source": [
    "df.head()"
   ]
  },
  {
   "cell_type": "code",
   "execution_count": 282,
   "id": "26c9d4c1",
   "metadata": {},
   "outputs": [
    {
     "data": {
      "text/plain": [
       "count                3031\n",
       "unique               1400\n",
       "top       ₹20000 per sqft\n",
       "freq                   50\n",
       "Name: Sqft, dtype: object"
      ]
     },
     "execution_count": 282,
     "metadata": {},
     "output_type": "execute_result"
    }
   ],
   "source": [
    "df['Sqft'].describe()"
   ]
  },
  {
   "cell_type": "code",
   "execution_count": 283,
   "id": "2fe16b07",
   "metadata": {},
   "outputs": [
    {
     "data": {
      "text/plain": [
       "0       ₹25833 per sqft\n",
       "1                   NaN\n",
       "2       ₹13103 per sqft\n",
       "3       ₹16071 per sqft\n",
       "4       ₹40000 per sqft\n",
       "             ...       \n",
       "3395    ₹16429 per sqft\n",
       "3396    ₹20000 per sqft\n",
       "3397     ₹4364 per sqft\n",
       "3398                NaN\n",
       "3399                NaN\n",
       "Name: Sqft, Length: 3400, dtype: object"
      ]
     },
     "execution_count": 283,
     "metadata": {},
     "output_type": "execute_result"
    }
   ],
   "source": [
    "import re\n",
    "\n",
    "df['Sqft']"
   ]
  },
  {
   "cell_type": "code",
   "execution_count": 284,
   "id": "6288a07b",
   "metadata": {},
   "outputs": [
    {
     "name": "stderr",
     "output_type": "stream",
     "text": [
      "C:\\Users\\SIDDESH VICHARE\\AppData\\Local\\Temp\\ipykernel_10928\\145746167.py:3: FutureWarning: The default value of regex will change from True to False in a future version.\n",
      "  df['Sqft'] = df['Sqft'].str.replace(r'\\₹', '')\n"
     ]
    },
    {
     "data": {
      "text/plain": [
       "0       25833  sqft\n",
       "1               NaN\n",
       "2       13103  sqft\n",
       "3       16071  sqft\n",
       "4       40000  sqft\n",
       "           ...     \n",
       "3395    16429  sqft\n",
       "3396    20000  sqft\n",
       "3397     4364  sqft\n",
       "3398            NaN\n",
       "3399            NaN\n",
       "Name: Sqft, Length: 3400, dtype: object"
      ]
     },
     "execution_count": 284,
     "metadata": {},
     "output_type": "execute_result"
    }
   ],
   "source": [
    "import re\n",
    "# Remove '₹ per sqft' from each string in the 'Sqft' column\n",
    "df['Sqft'] = df['Sqft'].str.replace(r'\\₹', '')\n",
    "\n",
    "# Print the updated DataFrame\n",
    "df['Sqft']=df['Sqft'].str.replace('per','')\n",
    "df['Sqft']"
   ]
  },
  {
   "cell_type": "code",
   "execution_count": 285,
   "id": "2d0cdd0f",
   "metadata": {},
   "outputs": [
    {
     "data": {
      "text/plain": [
       "0       25833  sqft\n",
       "1               NaN\n",
       "2       13103  sqft\n",
       "3       16071  sqft\n",
       "4       40000  sqft\n",
       "           ...     \n",
       "3395    16429  sqft\n",
       "3396    20000  sqft\n",
       "3397     4364  sqft\n",
       "3398            NaN\n",
       "3399            NaN\n",
       "Name: Sqft, Length: 3400, dtype: object"
      ]
     },
     "execution_count": 285,
     "metadata": {},
     "output_type": "execute_result"
    }
   ],
   "source": [
    "df['Sqft']"
   ]
  },
  {
   "cell_type": "code",
   "execution_count": 286,
   "id": "2899d141",
   "metadata": {},
   "outputs": [
    {
     "data": {
      "text/plain": [
       "25833.0"
      ]
     },
     "execution_count": 286,
     "metadata": {},
     "output_type": "execute_result"
    }
   ],
   "source": [
    "float(25833)/1"
   ]
  },
  {
   "cell_type": "code",
   "execution_count": 287,
   "id": "91a84c65",
   "metadata": {},
   "outputs": [],
   "source": [
    "def treat_sqfts(x):\n",
    "    if isinstance(x,float):\n",
    "        return x\n",
    "    elif 'sqft' in x:\n",
    "        return round(float(x.replace('sqft',''))/1)\n",
    "    else:\n",
    "        return np.nan"
   ]
  },
  {
   "cell_type": "code",
   "execution_count": 288,
   "id": "7f8521f6",
   "metadata": {},
   "outputs": [],
   "source": [
    "df['Sqft']=df['Sqft'].apply(treat_sqft)"
   ]
  },
  {
   "cell_type": "code",
   "execution_count": 289,
   "id": "36aaa67d",
   "metadata": {},
   "outputs": [
    {
     "data": {
      "text/plain": [
       "dtype('float64')"
      ]
     },
     "execution_count": 289,
     "metadata": {},
     "output_type": "execute_result"
    }
   ],
   "source": [
    "df['Sqft'].dtype"
   ]
  },
  {
   "cell_type": "code",
   "execution_count": 290,
   "id": "6dd6bc64",
   "metadata": {},
   "outputs": [
    {
     "data": {
      "text/html": [
       "<div>\n",
       "<style scoped>\n",
       "    .dataframe tbody tr th:only-of-type {\n",
       "        vertical-align: middle;\n",
       "    }\n",
       "\n",
       "    .dataframe tbody tr th {\n",
       "        vertical-align: top;\n",
       "    }\n",
       "\n",
       "    .dataframe thead th {\n",
       "        text-align: right;\n",
       "    }\n",
       "</style>\n",
       "<table border=\"1\" class=\"dataframe\">\n",
       "  <thead>\n",
       "    <tr style=\"text-align: right;\">\n",
       "      <th></th>\n",
       "      <th>Name</th>\n",
       "      <th>Price</th>\n",
       "      <th>Sqft</th>\n",
       "      <th>Carpet</th>\n",
       "      <th>Furnished</th>\n",
       "      <th>Floor</th>\n",
       "      <th>balcony</th>\n",
       "      <th>bathroom</th>\n",
       "      <th>Bedroom</th>\n",
       "      <th>society</th>\n",
       "    </tr>\n",
       "  </thead>\n",
       "  <tbody>\n",
       "    <tr>\n",
       "      <th>0</th>\n",
       "      <td>3 BHK Ready to Occupy Flat for sale in Girivan...</td>\n",
       "      <td>3.10</td>\n",
       "      <td>25833.0</td>\n",
       "      <td>979 sqft</td>\n",
       "      <td>Semi-Furnished</td>\n",
       "      <td>6 out of 13</td>\n",
       "      <td>1</td>\n",
       "      <td>3.0</td>\n",
       "      <td>3.0</td>\n",
       "      <td>Paramjyoti Chembur</td>\n",
       "    </tr>\n",
       "    <tr>\n",
       "      <th>1</th>\n",
       "      <td>2 BHK Ready to Occupy Flat for sale Dahisar West</td>\n",
       "      <td>1.85</td>\n",
       "      <td>NaN</td>\n",
       "      <td>707 sqft</td>\n",
       "      <td>Unfurnished</td>\n",
       "      <td>3 out of 6</td>\n",
       "      <td>NaN</td>\n",
       "      <td>2.0</td>\n",
       "      <td>2.0</td>\n",
       "      <td>Dahisar West</td>\n",
       "    </tr>\n",
       "    <tr>\n",
       "      <th>2</th>\n",
       "      <td>1 BHK Ready to Occupy Flat for sale Chembur East</td>\n",
       "      <td>0.38</td>\n",
       "      <td>13103.0</td>\n",
       "      <td>NaN</td>\n",
       "      <td>Furnished</td>\n",
       "      <td>1 out of 3</td>\n",
       "      <td>NaN</td>\n",
       "      <td>1.0</td>\n",
       "      <td>1.0</td>\n",
       "      <td>Chembur East</td>\n",
       "    </tr>\n",
       "  </tbody>\n",
       "</table>\n",
       "</div>"
      ],
      "text/plain": [
       "                                                Name  Price     Sqft  \\\n",
       "0  3 BHK Ready to Occupy Flat for sale in Girivan...   3.10  25833.0   \n",
       "1   2 BHK Ready to Occupy Flat for sale Dahisar West   1.85      NaN   \n",
       "2   1 BHK Ready to Occupy Flat for sale Chembur East   0.38  13103.0   \n",
       "\n",
       "     Carpet       Furnished        Floor balcony  bathroom  Bedroom  \\\n",
       "0  979 sqft  Semi-Furnished  6 out of 13       1       3.0      3.0   \n",
       "1  707 sqft     Unfurnished   3 out of 6     NaN       2.0      2.0   \n",
       "2       NaN       Furnished   1 out of 3     NaN       1.0      1.0   \n",
       "\n",
       "              society  \n",
       "0  Paramjyoti Chembur  \n",
       "1        Dahisar West  \n",
       "2        Chembur East  "
      ]
     },
     "execution_count": 290,
     "metadata": {},
     "output_type": "execute_result"
    }
   ],
   "source": [
    "df.head(3)"
   ]
  },
  {
   "cell_type": "code",
   "execution_count": 291,
   "id": "b0585202",
   "metadata": {},
   "outputs": [],
   "source": [
    "df['Carpet']=df['Carpet'].apply(treat_sqfts)"
   ]
  },
  {
   "cell_type": "code",
   "execution_count": 292,
   "id": "2ebc2602",
   "metadata": {},
   "outputs": [],
   "source": [
    "def treat_int(x):\n",
    "    if isinstance(x,int):\n",
    "        return x\n",
    "    elif x==1:\n",
    "        return astype(x)\n",
    "    else:\n",
    "        return 'None'"
   ]
  },
  {
   "cell_type": "code",
   "execution_count": 293,
   "id": "f345e9f0",
   "metadata": {},
   "outputs": [
    {
     "data": {
      "text/plain": [
       "0        979.0\n",
       "1        707.0\n",
       "2          NaN\n",
       "3        625.0\n",
       "4        560.0\n",
       "         ...  \n",
       "3395     630.0\n",
       "3396       NaN\n",
       "3397     485.0\n",
       "3398     315.0\n",
       "3399    1150.0\n",
       "Name: Carpet, Length: 3400, dtype: float64"
      ]
     },
     "execution_count": 293,
     "metadata": {},
     "output_type": "execute_result"
    }
   ],
   "source": [
    "df['Carpet']"
   ]
  },
  {
   "cell_type": "code",
   "execution_count": 294,
   "id": "a374c43e",
   "metadata": {},
   "outputs": [
    {
     "data": {
      "text/html": [
       "<div>\n",
       "<style scoped>\n",
       "    .dataframe tbody tr th:only-of-type {\n",
       "        vertical-align: middle;\n",
       "    }\n",
       "\n",
       "    .dataframe tbody tr th {\n",
       "        vertical-align: top;\n",
       "    }\n",
       "\n",
       "    .dataframe thead th {\n",
       "        text-align: right;\n",
       "    }\n",
       "</style>\n",
       "<table border=\"1\" class=\"dataframe\">\n",
       "  <thead>\n",
       "    <tr style=\"text-align: right;\">\n",
       "      <th></th>\n",
       "      <th>property_name</th>\n",
       "      <th>property_type</th>\n",
       "      <th>society</th>\n",
       "      <th>price</th>\n",
       "      <th>price_per_sqft</th>\n",
       "      <th>area</th>\n",
       "      <th>areaWithType</th>\n",
       "      <th>bedRoom</th>\n",
       "      <th>bathroom</th>\n",
       "      <th>balcony</th>\n",
       "      <th>additionalRoom</th>\n",
       "      <th>address</th>\n",
       "      <th>floorNum</th>\n",
       "      <th>facing</th>\n",
       "      <th>agePossession</th>\n",
       "      <th>nearbyLocations</th>\n",
       "      <th>description</th>\n",
       "      <th>furnishDetails</th>\n",
       "      <th>features</th>\n",
       "      <th>rating</th>\n",
       "    </tr>\n",
       "  </thead>\n",
       "  <tbody>\n",
       "    <tr>\n",
       "      <th>0</th>\n",
       "      <td>2 BHK Flat in Krishna Colony</td>\n",
       "      <td>flat</td>\n",
       "      <td>maa bhagwati residency</td>\n",
       "      <td>0.45</td>\n",
       "      <td>5000.0</td>\n",
       "      <td>900.0</td>\n",
       "      <td>Carpet area: 900 (83.61 sq.m.)</td>\n",
       "      <td>2</td>\n",
       "      <td>2</td>\n",
       "      <td>1</td>\n",
       "      <td>not available</td>\n",
       "      <td>Krishna Colony, Gurgaon, Haryana</td>\n",
       "      <td>4.0</td>\n",
       "      <td>West</td>\n",
       "      <td>1 to 5 Year Old</td>\n",
       "      <td>['Chintapurni Mandir', 'State bank ATM', 'Pear...</td>\n",
       "      <td>So with lift.Maa bhagwati residency is one of ...</td>\n",
       "      <td>['3 Fan', '4 Light', '1 Wardrobe', 'No AC', 'N...</td>\n",
       "      <td>['Feng Shui / Vaastu Compliant', 'Security / F...</td>\n",
       "      <td>['Environment4 out of 5', 'Safety4 out of 5', ...</td>\n",
       "    </tr>\n",
       "    <tr>\n",
       "      <th>1</th>\n",
       "      <td>2 BHK Flat in Ashok Vihar</td>\n",
       "      <td>flat</td>\n",
       "      <td>apna enclave</td>\n",
       "      <td>0.50</td>\n",
       "      <td>7692.0</td>\n",
       "      <td>650.0</td>\n",
       "      <td>Carpet area: 650 (60.39 sq.m.)</td>\n",
       "      <td>2</td>\n",
       "      <td>2</td>\n",
       "      <td>1</td>\n",
       "      <td>not available</td>\n",
       "      <td>46b, Ashok Vihar, Gurgaon, Haryana</td>\n",
       "      <td>1.0</td>\n",
       "      <td>West</td>\n",
       "      <td>10+ Year Old</td>\n",
       "      <td>['Chintapurni Mandir', 'Sheetla Mata Mandir', ...</td>\n",
       "      <td>Property situated on main road, railway statio...</td>\n",
       "      <td>['3 Wardrobe', '4 Fan', '1 Exhaust Fan', '1 Ge...</td>\n",
       "      <td>['Security / Fire Alarm', 'Maintenance Staff',...</td>\n",
       "      <td>['Environment4 out of 5', 'Safety4 out of 5', ...</td>\n",
       "    </tr>\n",
       "    <tr>\n",
       "      <th>2</th>\n",
       "      <td>2 BHK Flat in Sohna</td>\n",
       "      <td>flat</td>\n",
       "      <td>tulsiani easy in homes</td>\n",
       "      <td>0.40</td>\n",
       "      <td>6722.0</td>\n",
       "      <td>595.0</td>\n",
       "      <td>Carpet area: 595 (55.28 sq.m.)</td>\n",
       "      <td>2</td>\n",
       "      <td>2</td>\n",
       "      <td>3</td>\n",
       "      <td>not available</td>\n",
       "      <td>Sohna, Gurgaon, Haryana</td>\n",
       "      <td>12.0</td>\n",
       "      <td>NaN</td>\n",
       "      <td>0 to 1 Year Old</td>\n",
       "      <td>['Huda City Metro', 'Golf Course extn road', '...</td>\n",
       "      <td>This property is 15 km away from badshapur, gu...</td>\n",
       "      <td>NaN</td>\n",
       "      <td>['Power Back-up', 'Feng Shui / Vaastu Complian...</td>\n",
       "      <td>['Environment4 out of 5', 'Safety4 out of 5', ...</td>\n",
       "    </tr>\n",
       "    <tr>\n",
       "      <th>3</th>\n",
       "      <td>2 BHK Flat in Sector 61 Gurgaon</td>\n",
       "      <td>flat</td>\n",
       "      <td>smart world orchard</td>\n",
       "      <td>1.47</td>\n",
       "      <td>12250.0</td>\n",
       "      <td>1200.0</td>\n",
       "      <td>Carpet area: 1200 (111.48 sq.m.)</td>\n",
       "      <td>2</td>\n",
       "      <td>2</td>\n",
       "      <td>2</td>\n",
       "      <td>study room</td>\n",
       "      <td>Sector 61 Gurgaon, Gurgaon, Haryana</td>\n",
       "      <td>2.0</td>\n",
       "      <td>NaN</td>\n",
       "      <td>Dec 2023</td>\n",
       "      <td>['Sector 55-56 Metro station', 'Bestech Centra...</td>\n",
       "      <td>Near to metro station of sector 56 and opposit...</td>\n",
       "      <td>NaN</td>\n",
       "      <td>['Security / Fire Alarm', 'Private Garden / Te...</td>\n",
       "      <td>NaN</td>\n",
       "    </tr>\n",
       "  </tbody>\n",
       "</table>\n",
       "</div>"
      ],
      "text/plain": [
       "                     property_name property_type                 society  \\\n",
       "0     2 BHK Flat in Krishna Colony          flat  maa bhagwati residency   \n",
       "1        2 BHK Flat in Ashok Vihar          flat            apna enclave   \n",
       "2              2 BHK Flat in Sohna          flat  tulsiani easy in homes   \n",
       "3  2 BHK Flat in Sector 61 Gurgaon          flat     smart world orchard   \n",
       "\n",
       "   price  price_per_sqft    area                      areaWithType  bedRoom  \\\n",
       "0   0.45          5000.0   900.0    Carpet area: 900 (83.61 sq.m.)        2   \n",
       "1   0.50          7692.0   650.0    Carpet area: 650 (60.39 sq.m.)        2   \n",
       "2   0.40          6722.0   595.0    Carpet area: 595 (55.28 sq.m.)        2   \n",
       "3   1.47         12250.0  1200.0  Carpet area: 1200 (111.48 sq.m.)        2   \n",
       "\n",
       "   bathroom balcony additionalRoom                              address  \\\n",
       "0         2       1  not available     Krishna Colony, Gurgaon, Haryana   \n",
       "1         2       1  not available   46b, Ashok Vihar, Gurgaon, Haryana   \n",
       "2         2       3  not available              Sohna, Gurgaon, Haryana   \n",
       "3         2       2     study room  Sector 61 Gurgaon, Gurgaon, Haryana   \n",
       "\n",
       "   floorNum facing    agePossession  \\\n",
       "0       4.0   West  1 to 5 Year Old   \n",
       "1       1.0   West     10+ Year Old   \n",
       "2      12.0    NaN  0 to 1 Year Old   \n",
       "3       2.0    NaN         Dec 2023   \n",
       "\n",
       "                                     nearbyLocations  \\\n",
       "0  ['Chintapurni Mandir', 'State bank ATM', 'Pear...   \n",
       "1  ['Chintapurni Mandir', 'Sheetla Mata Mandir', ...   \n",
       "2  ['Huda City Metro', 'Golf Course extn road', '...   \n",
       "3  ['Sector 55-56 Metro station', 'Bestech Centra...   \n",
       "\n",
       "                                         description  \\\n",
       "0  So with lift.Maa bhagwati residency is one of ...   \n",
       "1  Property situated on main road, railway statio...   \n",
       "2  This property is 15 km away from badshapur, gu...   \n",
       "3  Near to metro station of sector 56 and opposit...   \n",
       "\n",
       "                                      furnishDetails  \\\n",
       "0  ['3 Fan', '4 Light', '1 Wardrobe', 'No AC', 'N...   \n",
       "1  ['3 Wardrobe', '4 Fan', '1 Exhaust Fan', '1 Ge...   \n",
       "2                                                NaN   \n",
       "3                                                NaN   \n",
       "\n",
       "                                            features  \\\n",
       "0  ['Feng Shui / Vaastu Compliant', 'Security / F...   \n",
       "1  ['Security / Fire Alarm', 'Maintenance Staff',...   \n",
       "2  ['Power Back-up', 'Feng Shui / Vaastu Complian...   \n",
       "3  ['Security / Fire Alarm', 'Private Garden / Te...   \n",
       "\n",
       "                                              rating  \n",
       "0  ['Environment4 out of 5', 'Safety4 out of 5', ...  \n",
       "1  ['Environment4 out of 5', 'Safety4 out of 5', ...  \n",
       "2  ['Environment4 out of 5', 'Safety4 out of 5', ...  \n",
       "3                                                NaN  "
      ]
     },
     "execution_count": 294,
     "metadata": {},
     "output_type": "execute_result"
    }
   ],
   "source": [
    "cleaned.head(4)"
   ]
  },
  {
   "cell_type": "code",
   "execution_count": 302,
   "id": "f3476a75",
   "metadata": {},
   "outputs": [
    {
     "ename": "TypeError",
     "evalue": "'float' object is not subscriptable",
     "output_type": "error",
     "traceback": [
      "\u001b[1;31m---------------------------------------------------------------------------\u001b[0m",
      "\u001b[1;31mTypeError\u001b[0m                                 Traceback (most recent call last)",
      "Cell \u001b[1;32mIn[302], line 3\u001b[0m\n\u001b[0;32m      1\u001b[0m floors\u001b[38;5;241m=\u001b[39mdf[\u001b[38;5;124m'\u001b[39m\u001b[38;5;124mFloor\u001b[39m\u001b[38;5;124m'\u001b[39m]\u001b[38;5;241m.\u001b[39mstr\u001b[38;5;241m.\u001b[39msplit()\n\u001b[0;32m      2\u001b[0m \u001b[38;5;28;01mfor\u001b[39;00m x \u001b[38;5;129;01min\u001b[39;00m floors:\n\u001b[1;32m----> 3\u001b[0m     floor\u001b[38;5;241m=\u001b[39m\u001b[43mx\u001b[49m\u001b[43m[\u001b[49m\u001b[38;5;241;43m0\u001b[39;49m\u001b[43m]\u001b[49m\n",
      "\u001b[1;31mTypeError\u001b[0m: 'float' object is not subscriptable"
     ]
    }
   ],
   "source": [
    "floors=df['Floor'].str.split()\n",
    "for x in floors:\n",
    "    floor="
   ]
  },
  {
   "cell_type": "code",
   "execution_count": 296,
   "id": "454a7b10",
   "metadata": {},
   "outputs": [
    {
     "data": {
      "text/plain": [
       "0        6 out of 13\n",
       "1         3 out of 6\n",
       "2         1 out of 3\n",
       "3        7 out of 16\n",
       "4         1 out of 4\n",
       "            ...     \n",
       "3395    21 out of 30\n",
       "3396      1 out of 5\n",
       "3397      1 out of 3\n",
       "3398    15 out of 23\n",
       "3399      3 out of 7\n",
       "Name: Floor, Length: 3400, dtype: object"
      ]
     },
     "execution_count": 296,
     "metadata": {},
     "output_type": "execute_result"
    }
   ],
   "source": [
    "df['Floor']"
   ]
  },
  {
   "cell_type": "code",
   "execution_count": 297,
   "id": "d84c3958",
   "metadata": {},
   "outputs": [],
   "source": [
    "def treat_sqfts(x):\n",
    "    if isinstance(x,float):\n",
    "        return x\n",
    "    elif 'out of' in x:\n",
    "        return round(float(x.replace('out of',''))/1)\n",
    "    else:\n",
    "        return np.nan"
   ]
  },
  {
   "cell_type": "code",
   "execution_count": 273,
   "id": "2f33a3f6",
   "metadata": {},
   "outputs": [
    {
     "ename": "ValueError",
     "evalue": "could not convert string to float: '6  13'",
     "output_type": "error",
     "traceback": [
      "\u001b[1;31m---------------------------------------------------------------------------\u001b[0m",
      "\u001b[1;31mValueError\u001b[0m                                Traceback (most recent call last)",
      "Cell \u001b[1;32mIn[273], line 1\u001b[0m\n\u001b[1;32m----> 1\u001b[0m df[\u001b[38;5;124m'\u001b[39m\u001b[38;5;124mFloor\u001b[39m\u001b[38;5;124m'\u001b[39m]\u001b[38;5;241m=\u001b[39m\u001b[43mdf\u001b[49m\u001b[43m[\u001b[49m\u001b[38;5;124;43m'\u001b[39;49m\u001b[38;5;124;43mFloor\u001b[39;49m\u001b[38;5;124;43m'\u001b[39;49m\u001b[43m]\u001b[49m\u001b[38;5;241;43m.\u001b[39;49m\u001b[43mapply\u001b[49m\u001b[43m(\u001b[49m\u001b[43mtreat_sqfts\u001b[49m\u001b[43m)\u001b[49m\n",
      "File \u001b[1;32m~\\Downloads\\anaconda3\\lib\\site-packages\\pandas\\core\\series.py:4771\u001b[0m, in \u001b[0;36mSeries.apply\u001b[1;34m(self, func, convert_dtype, args, **kwargs)\u001b[0m\n\u001b[0;32m   4661\u001b[0m \u001b[38;5;28;01mdef\u001b[39;00m \u001b[38;5;21mapply\u001b[39m(\n\u001b[0;32m   4662\u001b[0m     \u001b[38;5;28mself\u001b[39m,\n\u001b[0;32m   4663\u001b[0m     func: AggFuncType,\n\u001b[1;32m   (...)\u001b[0m\n\u001b[0;32m   4666\u001b[0m     \u001b[38;5;241m*\u001b[39m\u001b[38;5;241m*\u001b[39mkwargs,\n\u001b[0;32m   4667\u001b[0m ) \u001b[38;5;241m-\u001b[39m\u001b[38;5;241m>\u001b[39m DataFrame \u001b[38;5;241m|\u001b[39m Series:\n\u001b[0;32m   4668\u001b[0m     \u001b[38;5;124;03m\"\"\"\u001b[39;00m\n\u001b[0;32m   4669\u001b[0m \u001b[38;5;124;03m    Invoke function on values of Series.\u001b[39;00m\n\u001b[0;32m   4670\u001b[0m \n\u001b[1;32m   (...)\u001b[0m\n\u001b[0;32m   4769\u001b[0m \u001b[38;5;124;03m    dtype: float64\u001b[39;00m\n\u001b[0;32m   4770\u001b[0m \u001b[38;5;124;03m    \"\"\"\u001b[39;00m\n\u001b[1;32m-> 4771\u001b[0m     \u001b[38;5;28;01mreturn\u001b[39;00m \u001b[43mSeriesApply\u001b[49m\u001b[43m(\u001b[49m\u001b[38;5;28;43mself\u001b[39;49m\u001b[43m,\u001b[49m\u001b[43m \u001b[49m\u001b[43mfunc\u001b[49m\u001b[43m,\u001b[49m\u001b[43m \u001b[49m\u001b[43mconvert_dtype\u001b[49m\u001b[43m,\u001b[49m\u001b[43m \u001b[49m\u001b[43margs\u001b[49m\u001b[43m,\u001b[49m\u001b[43m \u001b[49m\u001b[43mkwargs\u001b[49m\u001b[43m)\u001b[49m\u001b[38;5;241;43m.\u001b[39;49m\u001b[43mapply\u001b[49m\u001b[43m(\u001b[49m\u001b[43m)\u001b[49m\n",
      "File \u001b[1;32m~\\Downloads\\anaconda3\\lib\\site-packages\\pandas\\core\\apply.py:1123\u001b[0m, in \u001b[0;36mSeriesApply.apply\u001b[1;34m(self)\u001b[0m\n\u001b[0;32m   1120\u001b[0m     \u001b[38;5;28;01mreturn\u001b[39;00m \u001b[38;5;28mself\u001b[39m\u001b[38;5;241m.\u001b[39mapply_str()\n\u001b[0;32m   1122\u001b[0m \u001b[38;5;66;03m# self.f is Callable\u001b[39;00m\n\u001b[1;32m-> 1123\u001b[0m \u001b[38;5;28;01mreturn\u001b[39;00m \u001b[38;5;28;43mself\u001b[39;49m\u001b[38;5;241;43m.\u001b[39;49m\u001b[43mapply_standard\u001b[49m\u001b[43m(\u001b[49m\u001b[43m)\u001b[49m\n",
      "File \u001b[1;32m~\\Downloads\\anaconda3\\lib\\site-packages\\pandas\\core\\apply.py:1174\u001b[0m, in \u001b[0;36mSeriesApply.apply_standard\u001b[1;34m(self)\u001b[0m\n\u001b[0;32m   1172\u001b[0m     \u001b[38;5;28;01melse\u001b[39;00m:\n\u001b[0;32m   1173\u001b[0m         values \u001b[38;5;241m=\u001b[39m obj\u001b[38;5;241m.\u001b[39mastype(\u001b[38;5;28mobject\u001b[39m)\u001b[38;5;241m.\u001b[39m_values\n\u001b[1;32m-> 1174\u001b[0m         mapped \u001b[38;5;241m=\u001b[39m \u001b[43mlib\u001b[49m\u001b[38;5;241;43m.\u001b[39;49m\u001b[43mmap_infer\u001b[49m\u001b[43m(\u001b[49m\n\u001b[0;32m   1175\u001b[0m \u001b[43m            \u001b[49m\u001b[43mvalues\u001b[49m\u001b[43m,\u001b[49m\n\u001b[0;32m   1176\u001b[0m \u001b[43m            \u001b[49m\u001b[43mf\u001b[49m\u001b[43m,\u001b[49m\n\u001b[0;32m   1177\u001b[0m \u001b[43m            \u001b[49m\u001b[43mconvert\u001b[49m\u001b[38;5;241;43m=\u001b[39;49m\u001b[38;5;28;43mself\u001b[39;49m\u001b[38;5;241;43m.\u001b[39;49m\u001b[43mconvert_dtype\u001b[49m\u001b[43m,\u001b[49m\n\u001b[0;32m   1178\u001b[0m \u001b[43m        \u001b[49m\u001b[43m)\u001b[49m\n\u001b[0;32m   1180\u001b[0m \u001b[38;5;28;01mif\u001b[39;00m \u001b[38;5;28mlen\u001b[39m(mapped) \u001b[38;5;129;01mand\u001b[39;00m \u001b[38;5;28misinstance\u001b[39m(mapped[\u001b[38;5;241m0\u001b[39m], ABCSeries):\n\u001b[0;32m   1181\u001b[0m     \u001b[38;5;66;03m# GH#43986 Need to do list(mapped) in order to get treated as nested\u001b[39;00m\n\u001b[0;32m   1182\u001b[0m     \u001b[38;5;66;03m#  See also GH#25959 regarding EA support\u001b[39;00m\n\u001b[0;32m   1183\u001b[0m     \u001b[38;5;28;01mreturn\u001b[39;00m obj\u001b[38;5;241m.\u001b[39m_constructor_expanddim(\u001b[38;5;28mlist\u001b[39m(mapped), index\u001b[38;5;241m=\u001b[39mobj\u001b[38;5;241m.\u001b[39mindex)\n",
      "File \u001b[1;32m~\\Downloads\\anaconda3\\lib\\site-packages\\pandas\\_libs\\lib.pyx:2924\u001b[0m, in \u001b[0;36mpandas._libs.lib.map_infer\u001b[1;34m()\u001b[0m\n",
      "Cell \u001b[1;32mIn[272], line 5\u001b[0m, in \u001b[0;36mtreat_sqfts\u001b[1;34m(x)\u001b[0m\n\u001b[0;32m      3\u001b[0m     \u001b[38;5;28;01mreturn\u001b[39;00m x\n\u001b[0;32m      4\u001b[0m \u001b[38;5;28;01melif\u001b[39;00m \u001b[38;5;124m'\u001b[39m\u001b[38;5;124mout of\u001b[39m\u001b[38;5;124m'\u001b[39m \u001b[38;5;129;01min\u001b[39;00m x:\n\u001b[1;32m----> 5\u001b[0m     \u001b[38;5;28;01mreturn\u001b[39;00m \u001b[38;5;28mround\u001b[39m(\u001b[38;5;28;43mfloat\u001b[39;49m\u001b[43m(\u001b[49m\u001b[43mx\u001b[49m\u001b[38;5;241;43m.\u001b[39;49m\u001b[43mreplace\u001b[49m\u001b[43m(\u001b[49m\u001b[38;5;124;43m'\u001b[39;49m\u001b[38;5;124;43mout of\u001b[39;49m\u001b[38;5;124;43m'\u001b[39;49m\u001b[43m,\u001b[49m\u001b[38;5;124;43m'\u001b[39;49m\u001b[38;5;124;43m'\u001b[39;49m\u001b[43m)\u001b[49m\u001b[43m)\u001b[49m\u001b[38;5;241m/\u001b[39m\u001b[38;5;241m1\u001b[39m)\n\u001b[0;32m      6\u001b[0m \u001b[38;5;28;01melse\u001b[39;00m:\n\u001b[0;32m      7\u001b[0m     \u001b[38;5;28;01mreturn\u001b[39;00m np\u001b[38;5;241m.\u001b[39mnan\n",
      "\u001b[1;31mValueError\u001b[0m: could not convert string to float: '6  13'"
     ]
    }
   ],
   "source": [
    "df['Floor']=df['Floor'].apply(treat_sqfts)"
   ]
  },
  {
   "cell_type": "code",
   "execution_count": null,
   "id": "b8ca9472",
   "metadata": {},
   "outputs": [],
   "source": []
  }
 ],
 "metadata": {
  "kernelspec": {
   "display_name": "Python 3 (ipykernel)",
   "language": "python",
   "name": "python3"
  },
  "language_info": {
   "codemirror_mode": {
    "name": "ipython",
    "version": 3
   },
   "file_extension": ".py",
   "mimetype": "text/x-python",
   "name": "python",
   "nbconvert_exporter": "python",
   "pygments_lexer": "ipython3",
   "version": "3.10.9"
  }
 },
 "nbformat": 4,
 "nbformat_minor": 5
}
